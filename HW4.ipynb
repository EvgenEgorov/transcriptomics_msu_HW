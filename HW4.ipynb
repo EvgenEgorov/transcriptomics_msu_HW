{
  "nbformat": 4,
  "nbformat_minor": 0,
  "metadata": {
    "colab": {
      "provenance": [],
      "include_colab_link": true
    },
    "kernelspec": {
      "name": "python3",
      "display_name": "Python 3"
    },
    "language_info": {
      "name": "python"
    }
  },
  "cells": [
    {
      "cell_type": "markdown",
      "metadata": {
        "id": "view-in-github",
        "colab_type": "text"
      },
      "source": [
        "<a href=\"https://colab.research.google.com/github/EvgenEgorov/transcriptomics_msu_HW/blob/main/HW4.ipynb\" target=\"_parent\"><img src=\"https://colab.research.google.com/assets/colab-badge.svg\" alt=\"Open In Colab\"/></a>"
      ]
    },
    {
      "cell_type": "markdown",
      "source": [
        "# Семинар 4. Определение дифференциально экспрессированных генов. Работа с пакетами DESeq2 и edgeR."
      ],
      "metadata": {
        "id": "ledknR3HMzeT"
      }
    },
    {
      "cell_type": "markdown",
      "source": [
        "В этом семинаре мы разберем работу с генерализованными линейными моделями для поиска дифференциально экспрессированных генов."
      ],
      "metadata": {
        "id": "-Ez5pou1guvz"
      }
    },
    {
      "cell_type": "markdown",
      "source": [
        "## Установка пакетов и импорт данных"
      ],
      "metadata": {
        "id": "rjC3I09wN4Rg"
      }
    },
    {
      "cell_type": "markdown",
      "source": [
        "Подгружаем заранее установленные пакеты"
      ],
      "metadata": {
        "id": "m1FRiqg0fF6x"
      }
    },
    {
      "cell_type": "code",
      "source": [
        "!apt-get install libgmp3-dev libcairo2-dev libharfbuzz-dev libfribidi-dev libudunits2-dev\n",
        "!gdown --id \"1W0TuuQospxcasOX5cQdhT_Xd-k7-QAck&confirm=t\"\n",
        "!tar xf library.tar.gz"
      ],
      "metadata": {
        "id": "M3iHMCR7fFPE"
      },
      "execution_count": null,
      "outputs": []
    },
    {
      "cell_type": "markdown",
      "source": [
        "Устанавливаем еще несколько пакетов"
      ],
      "metadata": {
        "id": "3iJhHVfyfL-0"
      }
    },
    {
      "cell_type": "code",
      "execution_count": null,
      "metadata": {
        "id": "efLXj3yaK0fQ"
      },
      "outputs": [],
      "source": [
        "!pip install rpy2==3.5.1\n",
        "%load_ext rpy2.ipython\n",
        "%R .libPaths(\"usr/local/lib/R/site-library/\")\n",
        "\n",
        "!Rscript -e 'install.packages(\"dplyr\")'\n",
        "!Rscript -e 'install.packages(\"ggplot2\")'\n",
        "!Rscript -e 'install.packages(\"tidyr\")'\n",
        "!Rscript -e 'install.packages(\"stringr\")'\n",
        "!Rscript -e 'install.packages(\"statmod\")'\n",
        "!Rscript -e 'install.packages(\"MASS\")'"
      ]
    },
    {
      "cell_type": "markdown",
      "source": [
        "Импортируем пакеты"
      ],
      "metadata": {
        "id": "g4ipCcgjSE_T"
      }
    },
    {
      "cell_type": "code",
      "source": [
        "%%R\n",
        "\n",
        "suppressPackageStartupMessages({\n",
        "  library(edgeR)\n",
        "  library(stringr)\n",
        "  library(dplyr)\n",
        "  library(tidyr)\n",
        "  library(tximport)\n",
        "  library(EnsDb.Mmusculus.v79)\n",
        "  library(ggplot2)\n",
        "  library(MASS)\n",
        "})"
      ],
      "metadata": {
        "id": "pR9bALSqTdpA"
      },
      "execution_count": 3,
      "outputs": []
    },
    {
      "cell_type": "markdown",
      "source": [
        "Скачиваем данные, которыми мы будем пользоваться, в виде файлов, являющихся аутпутом (псевдо)картировщика salmon"
      ],
      "metadata": {
        "id": "YvlLxQJ8SGc5"
      }
    },
    {
      "cell_type": "code",
      "source": [
        "!wget -r -np -R \"index.html*\" http://arcuda.skoltech.ru/~d.bobrovsky/teaching/transcriptomics/samples/"
      ],
      "metadata": {
        "id": "VaCnpqqsVLca"
      },
      "execution_count": null,
      "outputs": []
    },
    {
      "cell_type": "code",
      "source": [
        "!mkdir data\n",
        "!mkdir data/samples\n",
        "!mv arcuda.skoltech.ru/~d.bobrovsky/teaching/transcriptomics/samples/* data/samples"
      ],
      "metadata": {
        "id": "F9owLncUVlPt"
      },
      "execution_count": 5,
      "outputs": []
    },
    {
      "cell_type": "markdown",
      "source": [
        "## Введение"
      ],
      "metadata": {
        "id": "zgyFRw9Bf7aR"
      }
    },
    {
      "cell_type": "markdown",
      "source": [
        "### Постановка задачи"
      ],
      "metadata": {
        "id": "KSfEJwag4DOj"
      }
    },
    {
      "cell_type": "markdown",
      "source": [
        "Для поиска дифференциально экспрессируемых генов мы будем пользоваться регрессией. Для начала давайте вспомним, в чем суть самого простого ее варианта - всем известной линейной регрессии."
      ],
      "metadata": {
        "id": "fghNLPryif8g"
      }
    },
    {
      "cell_type": "markdown",
      "source": [
        "Представим, что наша задача - изучить зависимость экспрессии гена X от возраста человека"
      ],
      "metadata": {
        "id": "iHQGGVoei2SP"
      }
    },
    {
      "cell_type": "code",
      "source": [
        "%%R\n",
        "\n",
        "#сгенерируем симуляцию данных\n",
        "set.seed(212)\n",
        "age <- sample(1:70,50,replace=T)\n",
        "expression <- sapply(age,function(i){\n",
        "    mu = exp(0.03*i+log(20))\n",
        "    rnbinom(1,mu=mu,size=5)\n",
        "})\n",
        "df <- data.frame(age=age,expr=expression)"
      ],
      "metadata": {
        "id": "iASiuakAgBrc"
      },
      "execution_count": null,
      "outputs": []
    },
    {
      "cell_type": "code",
      "source": [
        "%%R\n",
        "\n",
        "ggplot(df,aes(x=age,y=expr))+\n",
        "  geom_point()"
      ],
      "metadata": {
        "id": "OZ1dgrp1ky3x",
        "colab": {
          "base_uri": "https://localhost:8080/",
          "height": 497
        },
        "outputId": "5022f746-3d00-4e87-f4ec-6742bc62b411"
      },
      "execution_count": null,
      "outputs": [
        {
          "output_type": "display_data",
          "data": {
            "image/png": "[encoded data removed]"
          },
          "metadata": {}
        }
      ]
    },
    {
      "cell_type": "markdown",
      "source": [
        "Можем ли мы применить на этих данных линейную регрессию?\n",
        "\n",
        "Нет, поскольку, как вы уже выяснили, каунты плохо описываются нормальным распределением. Куда лучше - отрицательным биномиальным."
      ],
      "metadata": {
        "id": "ual9j0v9lX0F"
      }
    },
    {
      "cell_type": "markdown",
      "source": [
        "### Генерализованные линейные модели"
      ],
      "metadata": {
        "id": "JfirzLiS37vv"
      }
    },
    {
      "cell_type": "markdown",
      "source": [
        "Чтобы, тем не менее, использовать для нашего анализа регрессию, воспользуемся генерализованными линейными моделями. Они позволяют расширить регрессию на случай, когда распределение зависимой переменной не нормальное, а какое-то друое из экспоненциального семейства."
      ],
      "metadata": {
        "id": "F_irjgaEVonN"
      }
    },
    {
      "cell_type": "markdown",
      "source": [
        "*Для любителей математики:*\n",
        "\n",
        "Распределение вероятностей принадлежит k-параметрическому экспоненциальному семейству, если его плотность может быть приведена к следующему виду:\n",
        "\n",
        "\\begin{align}\n",
        "f(y)=exp\\Big\\{\\sum_{i=1}^{k}\\phi_iT_i(y)-\\gamma(\\phi_1,...,\\phi_k)+S(y)\\Big\\},\n",
        "\\end{align}\n",
        "\n",
        "где $\\phi=(\\phi_1,...,\\phi_k)$ - k-мерный параметр$,\\;T_i:Y→\\mathbb{R},\\;i=1,...,k,\\;S:Y→\\mathbb{R},\\;γ:\\mathbb{R}^k→\\mathbb{R},\\;Y$ не зависит от $\\phi$."
      ],
      "metadata": {
        "id": "SJLXlY_oSo7j"
      }
    },
    {
      "cell_type": "markdown",
      "source": [
        "Для нас важно, что этому семейству принадлежат следующие распределения (иногда для этого нужно зафиксировать некоторые из их параметров): биномиальное, отрицательное биномиальное, нормальное, логнормальное, Пуассона, Парето, Гамма-, Бета-, ..."
      ],
      "metadata": {
        "id": "kd5N_S9_gSpi"
      }
    },
    {
      "cell_type": "markdown",
      "source": [
        "Чтобы работать с отрицательным биномиальным распределением, нам понадобится следующий вид его функции вероятности:\n",
        "\n",
        "\\begin{align}\n",
        "P[X=k]=\\frac{\\Gamma[k+\\alpha^{-1}]}{\\Gamma\\alpha^{-1}\\,\\Gamma[k+1]}\\Big(\\frac{1}{1+\\mu\\alpha}\\Big)^{\\alpha^{-1}}\\Big(\\frac{\\mu}{\\alpha^{-1}+\\mu}\\Big)^{k}\n",
        "\\end{align}"
      ],
      "metadata": {
        "id": "3YiaVNQOg3Uo"
      }
    },
    {
      "cell_type": "markdown",
      "source": [
        "Зададим распределение числа ридов на ген $g$ в образце $s$:\n",
        "\n",
        "\\begin{align}\n",
        "Counts_{gs}∼NBinom(\\mu_{gs},\\alpha_g),\n",
        "\\end{align}\n",
        "\n",
        "Матожидание $\\mu_{sg}$ будет зависимой переменной в нашей регрессии:\n",
        "\n",
        "\\begin{align}\n",
        "\\mu_{gs}=s_s*q_{gs}\n",
        "\\end{align}\n",
        "\n",
        "\\begin{align}\n",
        "\\text{log}\\,q_{gs}=\\beta_{g0}+\\beta_{g1}x_{s}\n",
        "\\end{align}\n",
        "\n",
        "$x_{s}$ - независимая переменная (в нашем случае, возраст пациента $s$), $s_s$ - параметр для нормализации на общее число ридов в образце $s$."
      ],
      "metadata": {
        "id": "cTTk3_QfZB8E"
      }
    },
    {
      "cell_type": "markdown",
      "source": [
        "Теперь мы видим, почему модель, несмотря на свой немного сложный вид, все еще линейная - в последней формуле с независимой переменной производятся только линейные преобразования (а при наличии нескольких независимых переменных мы бы рассматривали только их линейные комбинации)."
      ],
      "metadata": {
        "id": "SgWsxxRspUo2"
      }
    },
    {
      "cell_type": "markdown",
      "source": [
        "Как и в случае обычной линейной регрессии, в первую очередь нас будет интересовать наклон прямой - коэффициент $\\beta_{g1}$.\n",
        "\n",
        "Чтобы найти оптимальное значение коэффициента, GLM используют оценку максимального правдоподобия модели (MLE).\n",
        "\n",
        "Последовательность действий будет такая:\n",
        "1.   Каким-то образом оценить $s_s$\n",
        "2.   Каким-то образом оценить $\\alpha_g$\n",
        "3.   Найти оптимальные параметры $\\beta_{g0}$ и $\\beta_{g1}$\n",
        "\n",
        "В том, как именно реализуются первые два пункта, и лежат основные различия между пакетами для анализа дифф. экспрессии.\n",
        "\n"
      ],
      "metadata": {
        "id": "V3D0aGMVp-44"
      }
    },
    {
      "cell_type": "markdown",
      "source": [
        "Прежде, чем реализовать GLM самостоятельно, давайте посмотрим на табличку, призванную классифицировать разные модели регрессии."
      ],
      "metadata": {
        "id": "TJDPTmqUr0gt"
      }
    },
    {
      "cell_type": "markdown",
      "source": [
        "<table>\n",
        "  <tr>\n",
        "    <th>Distribution \\ Function g </th>\n",
        "    <th>g(x_i^T)=x_i*β</th>\n",
        "    <th>nonparametric g</th>\n",
        "  </tr>\n",
        "    <th>Gaussian</th>\n",
        "    <td>Linear Regression</td>\n",
        "    <td>Smoothing</td>\n",
        "  <tr>\n",
        "    <th>Exponential family</th>\n",
        "    <td>Generalized Linear Models (GLM)</td>\n",
        "    <td>Generalized Additive Models (GAM)</td>\n",
        "  </tr>\n",
        "</table>"
      ],
      "metadata": {
        "id": "yd7bnzy9PlJx"
      }
    },
    {
      "cell_type": "markdown",
      "source": [
        "Во второй половине курса мы столкнемся с другим классом моделей из этой таблички, а именно с генерализованными аддитивными моделями (GAM), когда будем говорить об изменениях экспрессии генов в проходящих дифференцировку клетках."
      ],
      "metadata": {
        "id": "dSpEg20csmS4"
      }
    },
    {
      "cell_type": "markdown",
      "source": [
        "### Реализация GLM"
      ],
      "metadata": {
        "id": "b0ErHL4zsrmD"
      }
    },
    {
      "cell_type": "markdown",
      "source": [
        "Попробуем реализовать GLM на наших искусственных данных."
      ],
      "metadata": {
        "id": "cJjwtUDFtsy4"
      }
    },
    {
      "cell_type": "code",
      "source": [
        "%%R\n",
        "\n",
        "model <- glm.nb(expr ~ age,data=df,link=log)\n",
        "summary(model)"
      ],
      "metadata": {
        "id": "qswZaabgxyl3",
        "colab": {
          "base_uri": "https://localhost:8080/"
        },
        "outputId": "e06f565c-9742-4d78-d400-2f671d4d3625"
      },
      "execution_count": null,
      "outputs": [
        {
          "output_type": "stream",
          "name": "stdout",
          "text": [
            "\n",
            "Call:\n",
            "glm.nb(formula = expr ~ age, data = df, link = log, init.theta = 4.576132049)\n",
            "\n",
            "Deviance Residuals: \n",
            "    Min       1Q   Median       3Q      Max  \n",
            "-1.8354  -1.0639  -0.2826   0.7238   1.4603  \n",
            "\n",
            "Coefficients:\n",
            "            Estimate Std. Error z value Pr(>|z|)    \n",
            "(Intercept) 2.888467   0.141265   20.45   <2e-16 ***\n",
            "age         0.029985   0.003478    8.62   <2e-16 ***\n",
            "---\n",
            "Signif. codes:  0 '***' 0.001 '**' 0.01 '*' 0.05 '.' 0.1 ' ' 1\n",
            "\n",
            "(Dispersion parameter for Negative Binomial(4.5761) family taken to be 1)\n",
            "\n",
            "    Null deviance: 129.471  on 49  degrees of freedom\n",
            "Residual deviance:  51.047  on 48  degrees of freedom\n",
            "AIC: 460.36\n",
            "\n",
            "Number of Fisher Scoring iterations: 1\n",
            "\n",
            "\n",
            "              Theta:  4.576 \n",
            "          Std. Err.:  0.975 \n",
            "\n",
            " 2 x log-likelihood:  -454.361 \n"
          ]
        }
      ]
    },
    {
      "cell_type": "code",
      "source": [
        "%%R\n",
        "\n",
        "ggplot(df,aes(x=age,y=expr))+\n",
        "  geom_point()+\n",
        "  geom_smooth(method=glm.nb,formula='y~x')"
      ],
      "metadata": {
        "id": "viFV6LxOUKjR",
        "colab": {
          "base_uri": "https://localhost:8080/",
          "height": 497
        },
        "outputId": "8e566cd8-3f12-4bbf-9393-8885b3ed01e8"
      },
      "execution_count": null,
      "outputs": [
        {
          "output_type": "display_data",
          "data": {
            "image/png": "[encoded data removed]"
          },
          "metadata": {}
        }
      ]
    },
    {
      "cell_type": "markdown",
      "source": [
        "Реализовав регрессию таким образом, мы сделали два важных допущения: предположили, что $s_s$ и $\\alpha_g$ равны 1. В реальной жизни это не так."
      ],
      "metadata": {
        "id": "7P9YeZX9g-Eu"
      }
    },
    {
      "cell_type": "markdown",
      "source": [
        "Прежде, чем мы посмотрим на реальный пример RNA-seq данных, давайте посмотрим на эту картинку и вспомним о том, что регрессию, в любом случае, нужно применять с умом )"
      ],
      "metadata": {
        "id": "prJOL5mqnBm-"
      }
    },
    {
      "cell_type": "markdown",
      "source": [
        "<img src='https://imgs.xkcd.com/comics/linear_regression_2x.png' width=600>"
      ],
      "metadata": {
        "id": "NXOjEzobPfvt"
      }
    },
    {
      "cell_type": "markdown",
      "source": [
        "## Реализация GLM для дифф. экспрессии"
      ],
      "metadata": {
        "id": "mQ4_y0BrmWAa"
      }
    },
    {
      "cell_type": "markdown",
      "source": [
        "В реальной жизни независимые переменные очень редко числовые, и куда чаще - категориальные. Самая стандартная задача в транскриптомике - сравнение образцов здоровой ткани и больной, контрольных животных и подвергшихся какому-либо воздействию, дикого типа и нокаута, ...\n",
        "\n",
        "Во всех этих случаях нам интересно, экспрессия каких генов различается между группами. Как же тогда быть?\n",
        "\n",
        "Можно было бы воспользоваться каким-нибудь тестом для сравнения двух групп (t-тестом, тестом Манна-Уитни). Но, на самом деле, и регрессия нам подойдет!"
      ],
      "metadata": {
        "id": "4CQrPQ-HmCYq"
      }
    },
    {
      "cell_type": "markdown",
      "source": [
        "В этом семинаре мы будем работать на датасете bulk RNA-seq почек мышей, полученном в лаборатории клеточной биологии рецепторов ИБХ РАН. В этом исследовании было два фактора, влияющих на экспрессию: нокаут по гену Insulin Receptor Related Receptor и различное воздействие на мышей: их поили либо обычной водой, либо водой с высоким содержанием бикарбоната."
      ],
      "metadata": {
        "id": "DCiplBrCtMmN"
      }
    },
    {
      "cell_type": "markdown",
      "source": [
        "Импортируем результаты Salmon с помощью tximport, пересчитывая каунты на уровне транскриптов. Отдельно сохраним табличку с целочисленными каунтами, отдельно - со значениями TPM."
      ],
      "metadata": {
        "id": "wZsD5XNTLADe"
      }
    },
    {
      "cell_type": "markdown",
      "source": [
        "\\begin{align}\n",
        "RPK\\;(reads\\;per\\;kilobase)=\\frac{read\\;counts}{gene\\;length\\;(in\\;Kb)}\n",
        "\\end{align}\n",
        "\n",
        "\\begin{align}\n",
        "TPM\\;(transcripts\\;per\\;kilobase\\;million)=\\frac{RPK}{\\sum_{all\\,genes\\,in\\,a\\,sample}{RPK}}*1\\,000\\,000\n",
        "\\end{align}"
      ],
      "metadata": {
        "id": "cWn6zMZZc-dC"
      }
    },
    {
      "cell_type": "markdown",
      "source": [
        "Подготовим переменные для tximport:"
      ],
      "metadata": {
        "id": "pn54H7pMuR0Q"
      }
    },
    {
      "cell_type": "code",
      "source": [
        "%%R\n",
        "\n",
        "txdb <- EnsDb.Mmusculus.v79\n",
        "tx2gene <- transcripts(txdb,return.type=\"DataFrame\")\n",
        "tx2gene <- tx2gene[c(\"tx_id\",\"gene_id\")]\n",
        "\n",
        "samples <- str_c(c(str_c(\"wt_water_\",c(1,2,3,4)),\n",
        "                   str_c(\"wt_bicarb_\",c(1,2,3,4)),\n",
        "                   str_c(\"ko_water_\",c(1,2,3,4)),\n",
        "                   str_c(\"ko_bicarb_\",c(1,2,3,4))),\".sf\")\n",
        "files <- str_c(\"data/samples/\",samples)"
      ],
      "metadata": {
        "id": "7kP0EOw4uRFn"
      },
      "execution_count": null,
      "outputs": []
    },
    {
      "cell_type": "code",
      "source": [
        "%%R\n",
        "\n",
        "txi <- tximport(files, type = \"salmon\", tx2gene = tx2gene, ignoreTxVersion=T)\n",
        "tpm <- tximport(files, type = \"salmon\", tx2gene = tx2gene, ignoreTxVersion=T, countsFromAbundance = \"lengthScaledTPM\")$counts"
      ],
      "metadata": {
        "id": "5bxrS3C-K7g0",
        "colab": {
          "base_uri": "https://localhost:8080/"
        },
        "outputId": "6b23ad1f-b42f-409b-c18b-a8aba8ec3baf"
      },
      "execution_count": null,
      "outputs": [
        {
          "output_type": "stream",
          "name": "stderr",
          "text": [
            "WARNING:rpy2.rinterface_lib.callbacks:R[write to console]: reading in files with read_tsv\n",
            "\n",
            "WARNING:rpy2.rinterface_lib.callbacks:R[write to console]: 1 \n",
            "WARNING:rpy2.rinterface_lib.callbacks:R[write to console]: 2 \n",
            "WARNING:rpy2.rinterface_lib.callbacks:R[write to console]: 3 \n",
            "WARNING:rpy2.rinterface_lib.callbacks:R[write to console]: 4 \n",
            "WARNING:rpy2.rinterface_lib.callbacks:R[write to console]: 5 \n",
            "WARNING:rpy2.rinterface_lib.callbacks:R[write to console]: 6 \n",
            "WARNING:rpy2.rinterface_lib.callbacks:R[write to console]: 7 \n",
            "WARNING:rpy2.rinterface_lib.callbacks:R[write to console]: 8 \n",
            "WARNING:rpy2.rinterface_lib.callbacks:R[write to console]: 9 \n",
            "WARNING:rpy2.rinterface_lib.callbacks:R[write to console]: 10 \n",
            "WARNING:rpy2.rinterface_lib.callbacks:R[write to console]: 11 \n",
            "WARNING:rpy2.rinterface_lib.callbacks:R[write to console]: 12 \n",
            "WARNING:rpy2.rinterface_lib.callbacks:R[write to console]: 13 \n",
            "WARNING:rpy2.rinterface_lib.callbacks:R[write to console]: 14 \n",
            "WARNING:rpy2.rinterface_lib.callbacks:R[write to console]: 15 \n",
            "WARNING:rpy2.rinterface_lib.callbacks:R[write to console]: 16 \n",
            "WARNING:rpy2.rinterface_lib.callbacks:R[write to console]: \n",
            "\n",
            "WARNING:rpy2.rinterface_lib.callbacks:R[write to console]: transcripts missing from tx2gene: 43521\n",
            "\n",
            "WARNING:rpy2.rinterface_lib.callbacks:R[write to console]: summarizing abundance\n",
            "\n",
            "WARNING:rpy2.rinterface_lib.callbacks:R[write to console]: summarizing counts\n",
            "\n",
            "WARNING:rpy2.rinterface_lib.callbacks:R[write to console]: summarizing length\n",
            "\n",
            "WARNING:rpy2.rinterface_lib.callbacks:R[write to console]: reading in files with read_tsv\n",
            "\n",
            "WARNING:rpy2.rinterface_lib.callbacks:R[write to console]: 1 \n",
            "WARNING:rpy2.rinterface_lib.callbacks:R[write to console]: 2 \n",
            "WARNING:rpy2.rinterface_lib.callbacks:R[write to console]: 3 \n",
            "WARNING:rpy2.rinterface_lib.callbacks:R[write to console]: 4 \n",
            "WARNING:rpy2.rinterface_lib.callbacks:R[write to console]: 5 \n",
            "WARNING:rpy2.rinterface_lib.callbacks:R[write to console]: 6 \n",
            "WARNING:rpy2.rinterface_lib.callbacks:R[write to console]: 7 \n",
            "WARNING:rpy2.rinterface_lib.callbacks:R[write to console]: 8 \n",
            "WARNING:rpy2.rinterface_lib.callbacks:R[write to console]: 9 \n",
            "WARNING:rpy2.rinterface_lib.callbacks:R[write to console]: 10 \n",
            "WARNING:rpy2.rinterface_lib.callbacks:R[write to console]: 11 \n",
            "WARNING:rpy2.rinterface_lib.callbacks:R[write to console]: 12 \n",
            "WARNING:rpy2.rinterface_lib.callbacks:R[write to console]: 13 \n",
            "WARNING:rpy2.rinterface_lib.callbacks:R[write to console]: 14 \n",
            "WARNING:rpy2.rinterface_lib.callbacks:R[write to console]: 15 \n",
            "WARNING:rpy2.rinterface_lib.callbacks:R[write to console]: 16 \n",
            "WARNING:rpy2.rinterface_lib.callbacks:R[write to console]: \n",
            "\n",
            "WARNING:rpy2.rinterface_lib.callbacks:R[write to console]: transcripts missing from tx2gene: 43521\n",
            "\n",
            "WARNING:rpy2.rinterface_lib.callbacks:R[write to console]: summarizing abundance\n",
            "\n",
            "WARNING:rpy2.rinterface_lib.callbacks:R[write to console]: summarizing counts\n",
            "\n",
            "WARNING:rpy2.rinterface_lib.callbacks:R[write to console]: summarizing length\n",
            "\n"
          ]
        }
      ]
    },
    {
      "cell_type": "markdown",
      "source": [
        "Посмотрим, какой объект выдает tximport"
      ],
      "metadata": {
        "id": "hOJq8LlHLtnD"
      }
    },
    {
      "cell_type": "code",
      "source": [
        "%%R\n",
        "\n",
        "str(txi)"
      ],
      "metadata": {
        "id": "mWD0I6VmLZ--",
        "colab": {
          "base_uri": "https://localhost:8080/"
        },
        "outputId": "a97f6df2-a8a4-4596-930d-a8a3a9b9b9d2"
      },
      "execution_count": 84,
      "outputs": [
        {
          "output_type": "stream",
          "name": "stdout",
          "text": [
            "List of 4\n",
            " $ abundance          : num [1:39210, 1:16] 14.4325 0 0.4596 0.1018 0.0323 ...\n",
            "  ..- attr(*, \"dimnames\")=List of 2\n",
            "  .. ..$ : chr [1:39210] \"ENSMUSG00000000001\" \"ENSMUSG00000000003\" \"ENSMUSG00000000028\" \"ENSMUSG00000000031\" ...\n",
            "  .. ..$ : NULL\n",
            " $ counts             : num [1:39210, 1:16] 745 0 18 8 4 ...\n",
            "  ..- attr(*, \"dimnames\")=List of 2\n",
            "  .. ..$ : chr [1:39210] \"ENSMUSG00000000001\" \"ENSMUSG00000000003\" \"ENSMUSG00000000028\" \"ENSMUSG00000000031\" ...\n",
            "  .. ..$ : NULL\n",
            " $ length             : num [1:39210, 1:16] 1576 548 1192 2398 3775 ...\n",
            "  ..- attr(*, \"dimnames\")=List of 2\n",
            "  .. ..$ : chr [1:39210] \"ENSMUSG00000000001\" \"ENSMUSG00000000003\" \"ENSMUSG00000000028\" \"ENSMUSG00000000031\" ...\n",
            "  .. ..$ : NULL\n",
            " $ countsFromAbundance: chr \"no\"\n"
          ]
        }
      ]
    },
    {
      "cell_type": "markdown",
      "source": [
        "Сохраним отдельно матрицу с каунтами и отдельно - с длинами транскриптов, после чего получим матрицу `normMat`, в которой скомбинируем информацию о размере библиотеки и длинах генов, чтобы с ее помощью нормализовать наши каунты"
      ],
      "metadata": {
        "id": "suPROwKvLXdi"
      }
    },
    {
      "cell_type": "code",
      "source": [
        "%%R\n",
        "\n",
        "cts <- txi$counts\n",
        "normMat <- txi$length\n",
        "\n",
        "# Obtaining per-observation scaling factors for length, adjusted to avoid changing the magnitude of the counts.\n",
        "normMat <- normMat/exp(rowMeans(log(normMat)))\n",
        "normCts <- cts/normMat\n",
        "\n",
        "# Computing effective library sizes from scaled counts, to account for composition biases between samples.\n",
        "eff.lib <- calcNormFactors(normCts) * colSums(normCts)\n",
        "\n",
        "# Combining effective library sizes with the length factors, and calculating offsets for a log-link GLM.\n",
        "normMat <- sweep(normMat, 2, eff.lib, \"*\")\n",
        "normMat <- log(normMat)"
      ],
      "metadata": {
        "id": "EO6-XGiALS0l"
      },
      "execution_count": 85,
      "outputs": []
    },
    {
      "cell_type": "markdown",
      "source": [
        "Скачаем полученную из BioMart таблицу с информацией о мышиных генах, чтобы для простоты исключить из анализа все не белок-кодирующие "
      ],
      "metadata": {
        "id": "aKbL4XaIQ-Vt"
      }
    },
    {
      "cell_type": "code",
      "source": [
        "!wget -O data/mouse_mart.csv http://arcuda.skoltech.ru/~d.bobrovsky/teaching/transcriptomics/mouse_mart.csv"
      ],
      "metadata": {
        "id": "yE1Zx2CAQ94p",
        "colab": {
          "base_uri": "https://localhost:8080/"
        },
        "outputId": "ff93ec46-a054-4bc3-b84f-80219a3c734d"
      },
      "execution_count": 86,
      "outputs": [
        {
          "output_type": "stream",
          "name": "stdout",
          "text": [
            "--2022-12-23 12:37:46--  http://arcuda.skoltech.ru/~d.bobrovsky/teaching/transcriptomics/mouse_mart.csv\n",
            "Resolving arcuda.skoltech.ru (arcuda.skoltech.ru)... 195.133.216.197\n",
            "Connecting to arcuda.skoltech.ru (arcuda.skoltech.ru)|195.133.216.197|:80... connected.\n",
            "HTTP request sent, awaiting response... 200 OK\n",
            "Length: 13518751 (13M)\n",
            "Saving to: ‘data/mouse_mart.csv’\n",
            "\n",
            "data/mouse_mart.csv 100%[===================>]  12.89M  6.83MB/s    in 1.9s    \n",
            "\n",
            "2022-12-23 12:37:48 (6.83 MB/s) - ‘data/mouse_mart.csv’ saved [13518751/13518751]\n",
            "\n"
          ]
        }
      ]
    },
    {
      "cell_type": "markdown",
      "source": [
        "Отфильтруем не белок-кодирующие гены"
      ],
      "metadata": {
        "id": "ohVAHKkERKSX"
      }
    },
    {
      "cell_type": "code",
      "source": [
        "%%R\n",
        "\n",
        "mart <- read.csv(\"data/mouse_mart.csv\")\n",
        "genetype <- mart$Gene.type[match(rownames(cts),mart$Gene.stable.ID)]\n",
        "typefilter <- genetype == \"protein_coding\"\n",
        "typefilter[is.na(typefilter)] <- FALSE\n",
        "cts <- cts[typefilter,]\n",
        "normMat <- normMat[typefilter,]\n",
        "tpm <- tpm[typefilter,]"
      ],
      "metadata": {
        "id": "Zl3vzlfiRMeL"
      },
      "execution_count": 87,
      "outputs": []
    },
    {
      "cell_type": "markdown",
      "source": [
        "Сейчас названия строк наших матриц - ENSEMBL ID генов. Давайте для удобства переименуем их в gene symbols и транспонируем матрицы + сделаем из них датафреймы"
      ],
      "metadata": {
        "id": "nQw2lohBMYHG"
      }
    },
    {
      "cell_type": "code",
      "source": [
        "%%R\n",
        "\n",
        "require(org.Mm.eg.db)\n",
        "Symbol <- mapIds(org.Mm.eg.db, keys=rownames(cts), keytype=\"ENSEMBL\", column=\"SYMBOL\")\n",
        "rownames(cts) <- Symbol\n",
        "cts <- data.frame(t(cts))\n",
        "\n",
        "rownames(tpm) <- Symbol\n",
        "tpm <- data.frame(t(tpm))\n",
        "\n",
        "normMat <- data.frame(t(normMat))\n",
        "colnames(normMat) <- colnames(cts)"
      ],
      "metadata": {
        "id": "72WiBBOTMSyM",
        "colab": {
          "base_uri": "https://localhost:8080/"
        },
        "outputId": "52ff7fec-8d57-4d94-cd7e-68e89d4546d8"
      },
      "execution_count": 88,
      "outputs": [
        {
          "output_type": "stream",
          "name": "stderr",
          "text": [
            "WARNING:rpy2.rinterface_lib.callbacks:R[write to console]: Loading required package: org.Mm.eg.db\n",
            "\n",
            "WARNING:rpy2.rinterface_lib.callbacks:R[write to console]: \n",
            "\n",
            "WARNING:rpy2.rinterface_lib.callbacks:R[write to console]: 'select()' returned 1:many mapping between keys and columns\n",
            "\n"
          ]
        }
      ]
    },
    {
      "cell_type": "markdown",
      "source": [
        "Для визуализации и применения GLM добавим в наши датафреймы с каунтами и с TPM столбцы с информацией о разбиении наших образцов на группы:"
      ],
      "metadata": {
        "id": "YMiKnybuMzYO"
      }
    },
    {
      "cell_type": "code",
      "source": [
        "%%R\n",
        "\n",
        "cts[\"KO\"] <- c(rep(\"WT\",8),rep(\"KO\",8))\n",
        "cts[\"treat\"] <- c(rep(c(rep(\"Water\",4),rep(\"Bicarb\",4)),2))\n",
        "cts[\"group\"] <- str_c(cts$KO,cts$treat,sep=\"_\")\n",
        "\n",
        "tpm[\"KO\"] <- cts$KO\n",
        "tpm[\"treat\"] <- cts$treat\n",
        "tpm[\"group\"] <- cts$group"
      ],
      "metadata": {
        "id": "fbf2i9kFM-3Y"
      },
      "execution_count": 89,
      "outputs": []
    },
    {
      "cell_type": "markdown",
      "source": [
        "С помощью `geom_point()` из ggplot2 визуализируйте экспрессию гена Mnt по группам:"
      ],
      "metadata": {
        "id": "PCkbsrmgNBhY"
      }
    },
    {
      "cell_type": "code",
      "source": [
        "%%R\n",
        "\n",
        "ggplot(cts,aes(x=group,y=Mnt))+\n",
        "  geom_point()"
      ],
      "metadata": {
        "id": "-URP1FNoNA8g",
        "colab": {
          "base_uri": "https://localhost:8080/",
          "height": 497
        },
        "outputId": "c4bca40c-9993-4b4c-ab50-84242313e75c"
      },
      "execution_count": 90,
      "outputs": [
        {
          "output_type": "display_data",
          "data": {
            "image/png": "[encoded data removed]"
          },
          "metadata": {}
        }
      ]
    },
    {
      "cell_type": "markdown",
      "source": [
        "Давайте реализуем log-link negative binomial GLM для каунтов гена Mnt:"
      ],
      "metadata": {
        "id": "Zd9LqH_SNPZ6"
      }
    },
    {
      "cell_type": "code",
      "source": [
        "%%R\n",
        "\n",
        "model <- glm.nb(Mnt ~ KO*treat,data=cts,link=log)"
      ],
      "metadata": {
        "id": "FJEvarMTNRyW"
      },
      "execution_count": 91,
      "outputs": []
    },
    {
      "cell_type": "code",
      "source": [
        "%%R\n",
        "\n",
        "summary(model)"
      ],
      "metadata": {
        "id": "koGLsxxeNrAB",
        "colab": {
          "base_uri": "https://localhost:8080/"
        },
        "outputId": "95cfe290-bf6c-413c-a51a-07045aca23dd"
      },
      "execution_count": 92,
      "outputs": [
        {
          "output_type": "stream",
          "name": "stdout",
          "text": [
            "\n",
            "Call:\n",
            "glm.nb(formula = Mnt ~ KO * treat, data = cts, link = log, init.theta = 82.59683604)\n",
            "\n",
            "Deviance Residuals: \n",
            "     Min        1Q    Median        3Q       Max  \n",
            "-2.49427  -0.64224  -0.06323   0.58029   1.82663  \n",
            "\n",
            "Coefficients:\n",
            "                Estimate Std. Error z value Pr(>|z|)    \n",
            "(Intercept)      6.50802    0.05831 111.618  < 2e-16 ***\n",
            "KOWT            -0.66086    0.08455  -7.816 5.44e-15 ***\n",
            "treatWater      -0.33372    0.08335  -4.004 6.23e-05 ***\n",
            "KOWT:treatWater  0.32647    0.12021   2.716  0.00661 ** \n",
            "---\n",
            "Signif. codes:  0 '***' 0.001 '**' 0.01 '*' 0.05 '.' 0.1 ' ' 1\n",
            "\n",
            "(Dispersion parameter for Negative Binomial(82.5968) family taken to be 1)\n",
            "\n",
            "    Null deviance: 104.646  on 15  degrees of freedom\n",
            "Residual deviance:  16.501  on 12  degrees of freedom\n",
            "AIC: 182.88\n",
            "\n",
            "Number of Fisher Scoring iterations: 1\n",
            "\n",
            "\n",
            "              Theta:  82.6 \n",
            "          Std. Err.:  35.8 \n",
            "\n",
            " 2 x log-likelihood:  -172.884 \n"
          ]
        }
      ]
    },
    {
      "cell_type": "markdown",
      "source": [
        "Эти P-value получены с помощью Wald test."
      ],
      "metadata": {
        "id": "WKq_K8gzNk7U"
      }
    },
    {
      "cell_type": "markdown",
      "source": [
        "Теперь давайте проверим, как влияет нормализация на различия между образцами.\n",
        "\n",
        "Для этого для начала постройте такой же график, как выше, но теперь для датафрейма `tpm`"
      ],
      "metadata": {
        "id": "HqNieAMqNyOC"
      }
    },
    {
      "cell_type": "code",
      "source": [
        "%%R\n",
        "\n",
        "ggplot(tpm,aes(x=group,y=Mnt))+\n",
        "  geom_point()"
      ],
      "metadata": {
        "id": "wzeD7ZAZN8yp",
        "colab": {
          "base_uri": "https://localhost:8080/",
          "height": 497
        },
        "outputId": "fe34ad80-ccf8-43fd-984a-7201b7a998d1"
      },
      "execution_count": 93,
      "outputs": [
        {
          "output_type": "display_data",
          "data": {
            "image/png": "[encoded data removed]"
          },
          "metadata": {}
        }
      ]
    },
    {
      "cell_type": "markdown",
      "source": [
        "Что поменялось в наших данных при нормализации? Стала ли какая-нибудь из зависимостей менее выраженной?\n",
        "\n",
        "Давайте переделаем модель, добавив к ней offset из датафрейма `normMat`:"
      ],
      "metadata": {
        "id": "nYGgvM2wN_K-"
      }
    },
    {
      "cell_type": "code",
      "source": [
        "%%R\n",
        "\n",
        "model <- glm.nb(Mnt ~ KO*treat+offset(normMat$Mnt),data=cts,link=log)\n",
        "summary(model)"
      ],
      "metadata": {
        "id": "qK-zK2RQOOH9",
        "colab": {
          "base_uri": "https://localhost:8080/"
        },
        "outputId": "a1b9b060-8af7-4d7d-981f-9430a8ea5bc8"
      },
      "execution_count": 94,
      "outputs": [
        {
          "output_type": "stream",
          "name": "stdout",
          "text": [
            "\n",
            "Call:\n",
            "glm.nb(formula = Mnt ~ KO * treat + offset(normMat$Mnt), data = cts, \n",
            "    link = log, init.theta = 49.78722134)\n",
            "\n",
            "Deviance Residuals: \n",
            "     Min        1Q    Median        3Q       Max  \n",
            "-2.45739  -0.49555  -0.03349   0.66635   1.69625  \n",
            "\n",
            "Coefficients:\n",
            "                 Estimate Std. Error  z value Pr(>|z|)    \n",
            "(Intercept)     -10.00707    0.07345 -136.238  < 2e-16 ***\n",
            "KOWT             -0.65754    0.10558   -6.228 4.72e-10 ***\n",
            "treatWater       -0.08209    0.10457   -0.785    0.432    \n",
            "KOWT:treatWater   0.07689    0.14979    0.513    0.608    \n",
            "---\n",
            "Signif. codes:  0 '***' 0.001 '**' 0.01 '*' 0.05 '.' 0.1 ' ' 1\n",
            "\n",
            "(Dispersion parameter for Negative Binomial(49.7872) family taken to be 1)\n",
            "\n",
            "    Null deviance: 84.480  on 15  degrees of freedom\n",
            "Residual deviance: 15.999  on 12  degrees of freedom\n",
            "AIC: 189.43\n",
            "\n",
            "Number of Fisher Scoring iterations: 1\n",
            "\n",
            "\n",
            "              Theta:  49.8 \n",
            "          Std. Err.:  19.5 \n",
            "\n",
            " 2 x log-likelihood:  -179.433 \n"
          ]
        }
      ]
    },
    {
      "cell_type": "markdown",
      "source": [
        "Учтем еще один нюанс: Wald test делается отдельно для каждого из факторов и их взаимодействия, что делает P-value заниженными ввиду множественного тестирования. Чтобы этого избежать, при наличии несколько факторов в эксперименте можно делать не Wald test, a likelihood ratio test (LRT), который тестирует всю модель сразу, итеративно сравнивая сначала модель с одним фактором с константной моделью, а затем добавляя другие факторы и их взаимодействие"
      ],
      "metadata": {
        "id": "RRgIIRtPOgq7"
      }
    },
    {
      "cell_type": "code",
      "source": [
        "%%R\n",
        "\n",
        "anova(model,test=\"Chisq\")"
      ],
      "metadata": {
        "id": "COfFxlsGPhp6",
        "colab": {
          "base_uri": "https://localhost:8080/"
        },
        "outputId": "b8d458f8-b756-41d4-98ca-63c6b7c76a43"
      },
      "execution_count": 95,
      "outputs": [
        {
          "output_type": "stream",
          "name": "stdout",
          "text": [
            "Analysis of Deviance Table\n",
            "\n",
            "Model: Negative Binomial(49.7872), link: log\n",
            "\n",
            "Response: Mnt\n",
            "\n",
            "Terms added sequentially (first to last)\n",
            "\n",
            "\n",
            "         Df Deviance Resid. Df Resid. Dev Pr(>Chi)    \n",
            "NULL                        15     84.480             \n",
            "KO        1   67.864        14     16.617   <2e-16 ***\n",
            "treat     1    0.354        13     16.263   0.5518    \n",
            "KO:treat  1    0.263        12     15.999   0.6079    \n",
            "---\n",
            "Signif. codes:  0 '***' 0.001 '**' 0.01 '*' 0.05 '.' 0.1 ' ' 1\n"
          ]
        }
      ]
    },
    {
      "cell_type": "markdown",
      "source": [
        "### Задание\n",
        "\n",
        "Напишите цикл/функцию `apply`/... для тестирования всех генов с помощью GLM с offset. Она должна выдавать датафрейм, строчки которого соответствуют генам, а столбцы - LRT P-value для нокаута, treatment'а и их взаимодействия."
      ],
      "metadata": {
        "id": "WjraytcaPqWJ"
      }
    },
    {
      "cell_type": "code",
      "source": [
        "%%R\n",
        "\n",
        "#your code"
      ],
      "metadata": {
        "id": "EYC6UBGIQTBG"
      },
      "execution_count": null,
      "outputs": []
    },
    {
      "cell_type": "markdown",
      "source": [
        "Теперь с помощью `p.adjust(...,method=\"BH\")` скорректируйте полученные P-value и выведите 10 генов с наиболее значимой дифф. экспрессией:"
      ],
      "metadata": {
        "id": "DHPUQXlBQUz-"
      }
    },
    {
      "cell_type": "code",
      "source": [
        "%%R\n",
        "\n",
        "#your code"
      ],
      "metadata": {
        "id": "KyHwo3NcQg4F"
      },
      "execution_count": null,
      "outputs": []
    },
    {
      "cell_type": "markdown",
      "source": [
        "## Анализ экспрессии с помощью edgeR, несколько независимых переменных"
      ],
      "metadata": {
        "id": "gXRGutR_l5nz"
      }
    },
    {
      "cell_type": "markdown",
      "source": [
        "Давайте проделаем аналогичный анализ с помощью пакета edgeR."
      ],
      "metadata": {
        "id": "JOnWbs9eQl8r"
      }
    },
    {
      "cell_type": "markdown",
      "source": [
        "Для начала заново получим матрицы `cts` и `normMat` в нетранспонированном виде:"
      ],
      "metadata": {
        "id": "GHcL24IeQrMD"
      }
    },
    {
      "cell_type": "code",
      "source": [
        "%%R\n",
        "cts <- txi$counts\n",
        "normMat <- txi$length\n",
        "\n",
        "# Obtaining per-observation scaling factors for length, adjusted to avoid\n",
        "# changing the magnitude of the counts.\n",
        "normMat <- normMat/exp(rowMeans(log(normMat)))\n",
        "normCts <- cts/normMat\n",
        "\n",
        "# Computing effective library sizes from scaled counts, to account for\n",
        "# composition biases between samples.\n",
        "eff.lib <- calcNormFactors(normCts) * colSums(normCts)\n",
        "\n",
        "# Combining effective library sizes with the length factors, and calculating\n",
        "# offsets for a log-link GLM.\n",
        "normMat <- sweep(normMat, 2, eff.lib, \"*\")\n",
        "normMat <- log(normMat)\n",
        "\n",
        "genelen <- txi$length"
      ],
      "metadata": {
        "id": "Oq__7tzBUBJT"
      },
      "execution_count": 80,
      "outputs": []
    },
    {
      "cell_type": "markdown",
      "source": [
        "Снова отфильтруем не белок-кодирующие гены"
      ],
      "metadata": {
        "id": "6Rx7HVQiUIOA"
      }
    },
    {
      "cell_type": "code",
      "source": [
        "%%R\n",
        "\n",
        "genetype <- mart$Gene.type[match(rownames(cts),mart$Gene.stable.ID)]\n",
        "typefilter <- genetype == \"protein_coding\"\n",
        "typefilter[is.na(typefilter)] <- FALSE\n",
        "cts <- cts[typefilter,]\n",
        "normMat <- normMat[typefilter,]\n",
        "genelen <- genelen[typefilter,]"
      ],
      "metadata": {
        "id": "uhsHXPxWUEwn"
      },
      "execution_count": 96,
      "outputs": []
    },
    {
      "cell_type": "markdown",
      "source": [
        "Создадим объект класса `DGEList`, с которым будут работать функции edgeR, а также содадим переменную `design`, в которую в подходящем для edgeR виде запишем информацию о дизайне эксперимента:"
      ],
      "metadata": {
        "id": "YuaMXVyERfw-"
      }
    },
    {
      "cell_type": "code",
      "source": [
        "%%R\n",
        "\n",
        "y <- DGEList(cts)\n",
        "y <- scaleOffset(y, normMat)\n",
        "\n",
        "knock <- c(rep(\"wt\",8),rep(\"ko\",8))\n",
        "treat <- c(rep(\"water\",4),rep(\"bicarb\",4),rep(\"water\",4),rep(\"bicarb\",4))\n",
        "group <- factor(str_c(knock,treat,sep=\"_\"))\n",
        "design <- model.matrix(~0+group)\n",
        "colnames(design) <- levels(group)"
      ],
      "metadata": {
        "id": "KrxU4fhCUQLm"
      },
      "execution_count": 82,
      "outputs": []
    },
    {
      "cell_type": "code",
      "source": [
        "%%R\n",
        "\n",
        "design"
      ],
      "metadata": {
        "id": "W2EMukbhRuyB",
        "colab": {
          "base_uri": "https://localhost:8080/"
        },
        "outputId": "16d605a0-9298-4ae9-ab71-9bade29c364f"
      },
      "execution_count": 83,
      "outputs": [
        {
          "output_type": "stream",
          "name": "stdout",
          "text": [
            "   ko_bicarb ko_water wt_bicarb wt_water\n",
            "1          0        0         0        1\n",
            "2          0        0         0        1\n",
            "3          0        0         0        1\n",
            "4          0        0         0        1\n",
            "5          0        0         1        0\n",
            "6          0        0         1        0\n",
            "7          0        0         1        0\n",
            "8          0        0         1        0\n",
            "9          0        1         0        0\n",
            "10         0        1         0        0\n",
            "11         0        1         0        0\n",
            "12         0        1         0        0\n",
            "13         1        0         0        0\n",
            "14         1        0         0        0\n",
            "15         1        0         0        0\n",
            "16         1        0         0        0\n",
            "attr(,\"assign\")\n",
            "[1] 1 1 1 1\n",
            "attr(,\"contrasts\")\n",
            "attr(,\"contrasts\")$group\n",
            "[1] \"contr.treatment\"\n",
            "\n"
          ]
        }
      ]
    },
    {
      "cell_type": "markdown",
      "source": [
        "Добавим в наш `DGEList` названия генов и их NCBI ID"
      ],
      "metadata": {
        "id": "AigSKfsYRxwO"
      }
    },
    {
      "cell_type": "code",
      "source": [
        "%%R\n",
        "\n",
        "require(org.Mm.eg.db)\n",
        "Symbol <- mapIds(org.Mm.eg.db, keys=rownames(y), keytype=\"ENSEMBL\", column=\"SYMBOL\")\n",
        "Entrez <- mapIds(org.Mm.eg.db, keys=rownames(y), keytype=\"ENSEMBL\", column=\"ENTREZID\")\n",
        "y$genes <- data.frame(Symbol=Symbol, Entrez=Entrez)\n",
        "y$genes[\"length\"] <- rowMeans(genelen)"
      ],
      "metadata": {
        "id": "lL6_1zFUUUVp",
        "colab": {
          "base_uri": "https://localhost:8080/"
        },
        "outputId": "71f4f604-251e-4834-a8de-a4f778ce5a6c"
      },
      "execution_count": 97,
      "outputs": [
        {
          "output_type": "stream",
          "name": "stderr",
          "text": [
            "WARNING:rpy2.rinterface_lib.callbacks:R[write to console]: 'select()' returned 1:many mapping between keys and columns\n",
            "\n",
            "WARNING:rpy2.rinterface_lib.callbacks:R[write to console]: 'select()' returned 1:many mapping between keys and columns\n",
            "\n"
          ]
        }
      ]
    },
    {
      "cell_type": "markdown",
      "source": [
        "Отфильтруем низко экспрессируемые гены и оценим дисперсии, чтобы применять к нашим данным quasi-likelihood F-test, реализованный в edgeR"
      ],
      "metadata": {
        "id": "fhh11Q8GScGy"
      }
    },
    {
      "cell_type": "code",
      "source": [
        "%%R\n",
        "\n",
        "keep <- filterByExpr(y,design=design,min.count=10,min.total.count=100,min.prop=0.25)\n",
        "y <- y[keep, , keep.lib.sizes=FALSE]\n",
        "\n",
        "y <- estimateDisp(y, design, robust=TRUE)\n",
        "\n",
        "#последняя строчка эквивалентна двум следующим:\n",
        "#y <- estimateCommonDisp(y)\n",
        "#y <- estimateTagwiseDisp(y)"
      ],
      "metadata": {
        "id": "ecRV5v9TUenT"
      },
      "execution_count": 98,
      "outputs": []
    },
    {
      "cell_type": "markdown",
      "source": [
        "Зафитим GLM и проведем QLF-тест для всех попарных сравнений"
      ],
      "metadata": {
        "id": "AR2mP7ZTSk_a"
      }
    },
    {
      "cell_type": "code",
      "source": [
        "%%R\n",
        "\n",
        "fit <- glmQLFit(y, design, robust=TRUE)\n",
        "\n",
        "my.contrasts <- makeContrasts(\n",
        "  KO.BicarbvsWater = ko_bicarb-ko_water,\n",
        "  WT.BicarbvsWater = wt_bicarb-wt_water,\n",
        "  Bicarb.KOvsWT = ko_bicarb-wt_bicarb,\n",
        "  Water.KOvsWT = ko_water-wt_water,\n",
        "  KOWT.treat = (ko_bicarb-ko_water)-(wt_bicarb-wt_water),\n",
        "  levels=design)\n",
        "\n",
        "qlf_WaterKOWT <- glmQLFTest(fit, contrast=my.contrasts[,\"Water.KOvsWT\"])\n",
        "qlf_BicarbKOWT <- glmQLFTest(fit, contrast=my.contrasts[,\"Bicarb.KOvsWT\"])\n",
        "qlf_KOtreat <- glmQLFTest(fit, contrast=my.contrasts[,\"KO.BicarbvsWater\"])\n",
        "qlf_WTtreat <- glmQLFTest(fit, contrast=my.contrasts[,\"WT.BicarbvsWater\"])\n",
        "qlf_KOWTtreat <- glmQLFTest(fit, contrast=my.contrasts[,\"KOWT.treat\"])"
      ],
      "metadata": {
        "id": "rHG1LeyVUjZQ"
      },
      "execution_count": 99,
      "outputs": []
    },
    {
      "cell_type": "markdown",
      "source": [
        "Мы могли бы также добавить взаимодействие между этими факторами в нашу матрицу design, и тогда задать отдельные contrasts для этих взаимодействий"
      ],
      "metadata": {
        "id": "yr96Uq1omm8v"
      }
    },
    {
      "cell_type": "markdown",
      "source": [
        "Посмотрим на число DE-генов"
      ],
      "metadata": {
        "id": "MTjkDmCoS1P3"
      }
    },
    {
      "cell_type": "code",
      "source": [
        "%%R\n",
        "\n",
        "print(summary(decideTests(qlf_WaterKOWT)))\n",
        "print(summary(decideTests(qlf_BicarbKOWT)))\n",
        "print(summary(decideTests(qlf_KOtreat)))\n",
        "print(summary(decideTests(qlf_WTtreat)))"
      ],
      "metadata": {
        "id": "v6rT8By9UmxF",
        "colab": {
          "base_uri": "https://localhost:8080/"
        },
        "outputId": "8938dd9f-eeb9-4955-9c10-7e1b0eaee0e0"
      },
      "execution_count": 100,
      "outputs": [
        {
          "output_type": "stream",
          "name": "stdout",
          "text": [
            "       1*ko_water -1*wt_water\n",
            "Down                     1547\n",
            "NotSig                  12043\n",
            "Up                       1384\n",
            "       1*ko_bicarb -1*wt_bicarb\n",
            "Down                       1244\n",
            "NotSig                    12427\n",
            "Up                         1303\n",
            "       1*ko_bicarb -1*ko_water\n",
            "Down                         2\n",
            "NotSig                   14971\n",
            "Up                           1\n",
            "       1*wt_bicarb -1*wt_water\n",
            "Down                        12\n",
            "NotSig                   14958\n",
            "Up                           4\n"
          ]
        }
      ]
    },
    {
      "cell_type": "markdown",
      "source": [
        "Запишем в отдельные переменные датафреймы с p-value, FDR и logFC всех генов для всех сравнений"
      ],
      "metadata": {
        "id": "xA9JfHpmS5aM"
      }
    },
    {
      "cell_type": "code",
      "source": [
        "%%R\n",
        "\n",
        "qlftable_WaterKOWT <- topTags(qlf_WaterKOWT,n=nrow(y))$table\n",
        "qlftable_BicarbKOWT <- topTags(qlf_BicarbKOWT,n=nrow(y))$table\n",
        "qlftable_KOtreat <- topTags(qlf_KOtreat,n=nrow(y))$table\n",
        "qlftable_WTtreat <- topTags(qlf_WTtreat,n=nrow(y))$table"
      ],
      "metadata": {
        "id": "9KExOgYxUsBA"
      },
      "execution_count": 101,
      "outputs": []
    },
    {
      "cell_type": "code",
      "source": [
        "%%R\n",
        "\n",
        "head(qlftable_WaterKOWT)"
      ],
      "metadata": {
        "colab": {
          "base_uri": "https://localhost:8080/"
        },
        "id": "r7c5g8BMDVu3",
        "outputId": "9fd02a3d-ec21-4924-9c99-be0a63bd5d9d"
      },
      "execution_count": null,
      "outputs": [
        {
          "output_type": "stream",
          "name": "stdout",
          "text": [
            "                   Symbol Entrez     length    logFC    logCPM        F\n",
            "ENSMUSG00000059412  Fxyd2  11936  499.05819 2.038222  8.886038 687.2928\n",
            "ENSMUSG00000045968 Teddm2 240817 2163.54411 3.896632  2.864537 328.3608\n",
            "ENSMUSG00000064368    ND6  17722  251.00000 1.494899 13.378434 316.1121\n",
            "ENSMUSG00000045128 Rpl18a  76808 1115.88125 3.704402  6.109092 325.6221\n",
            "ENSMUSG00000064356   ATP8  17706   11.60825 1.204768 13.577948 280.6929\n",
            "ENSMUSG00000026575   Nme7 171567  644.21467 1.708816  4.537958 259.1236\n",
            "                         PValue          FDR\n",
            "ENSMUSG00000059412 3.734162e-14 5.014979e-10\n",
            "ENSMUSG00000045968 9.065399e-12 4.239258e-08\n",
            "ENSMUSG00000064368 1.198212e-11 4.239258e-08\n",
            "ENSMUSG00000045128 1.262623e-11 4.239258e-08\n",
            "ENSMUSG00000064356 2.856974e-11 7.673832e-08\n",
            "ENSMUSG00000026575 5.112129e-11 9.676310e-08\n"
          ]
        }
      ]
    },
    {
      "cell_type": "markdown",
      "source": [
        "### Задание\n",
        "\n",
        "Постройте гистограммы p-value по полученным датафреймам. О чем они свидетельствуют?"
      ],
      "metadata": {
        "id": "SVFZSWcFWEaw"
      }
    },
    {
      "cell_type": "code",
      "source": [
        "%%R\n",
        "\n",
        "hist(qlftable_WaterKOWT$PValue)"
      ],
      "metadata": {
        "id": "2XzWtGD_YoFP",
        "colab": {
          "base_uri": "https://localhost:8080/",
          "height": 497
        },
        "outputId": "dd3cd994-9f13-4943-f9ac-36c95802ad15"
      },
      "execution_count": null,
      "outputs": [
        {
          "output_type": "display_data",
          "data": {
            "image/png": "[encoded data removed]"
          },
          "metadata": {}
        }
      ]
    },
    {
      "cell_type": "code",
      "source": [
        "%%R\n",
        "\n",
        "hist(qlftable_KOtreat$PValue)"
      ],
      "metadata": {
        "colab": {
          "base_uri": "https://localhost:8080/",
          "height": 497
        },
        "id": "Up1VDkd_EOey",
        "outputId": "e2b159a2-7386-4a13-b315-382f550f2aeb"
      },
      "execution_count": null,
      "outputs": [
        {
          "output_type": "display_data",
          "data": {
            "image/png": "[encoded data removed]"
          },
          "metadata": {}
        }
      ]
    },
    {
      "cell_type": "markdown",
      "source": [
        "Отрисуйте Volcano plots по этим четырем датафреймам.\n",
        "\n",
        "Какие факторы влияют на экспрессию?"
      ],
      "metadata": {
        "id": "7L6bR4iuYcSr"
      }
    },
    {
      "cell_type": "code",
      "source": [
        "%%R\n",
        "\n",
        "ggplot(qlftable_WaterKOWT,aes(x=logFC,y=-log10(PValue)))+\n",
        "  geom_point()"
      ],
      "metadata": {
        "id": "FcJakBz7WWLf",
        "colab": {
          "base_uri": "https://localhost:8080/",
          "height": 497
        },
        "outputId": "a9fcd3bb-4ad1-4f23-d269-43ca4cb8d2e1"
      },
      "execution_count": null,
      "outputs": [
        {
          "output_type": "display_data",
          "data": {
            "image/png": "[encoded data removed]"
          },
          "metadata": {}
        }
      ]
    },
    {
      "cell_type": "markdown",
      "source": [
        "## Домашнее задание"
      ],
      "metadata": {
        "id": "d7Ab7GpVPmNC"
      }
    },
    {
      "cell_type": "markdown",
      "source": [
        "Проведите аналогичный анализ с помощью DESeq2 и сравните его результаты с результатами edgeR и реализованной нами GLM (можете построить scatter plot для p-value, полученных разными методами).\n",
        "\n",
        "В чем основные различия используемых моделей и тестов?"
      ],
      "metadata": {
        "id": "Ra9oNzxpW15F"
      }
    },
    {
      "cell_type": "markdown",
      "source": [
        "Для этого нужно будет:\n",
        "\n",
        "1.   Импортировать еще раз из аутпута salmon наши каунты, но теперь выгрузить в DESeq2, а не в edgeR (https://bioconductor.org/packages/release/bioc/vignettes/tximport/inst/doc/tximport.html#DESeq2)\n",
        "2.   Реализовать стандартный пайплайн DESeq2, сравнивая с тем, как это делается в edgeR (https://bioconductor.org/packages/release/bioc/vignettes/DESeq2/inst/doc/DESeq2.html)\n",
        "\n"
      ],
      "metadata": {
        "id": "j4taTSlIGmgD"
      }
    },
    {
      "cell_type": "markdown",
      "source": [
        "**Решение домашнего задания**\n",
        "\n",
        "Проведем стандартный анализ с помощью DESeq2."
      ],
      "metadata": {
        "id": "z9z3dcET0edK"
      }
    },
    {
      "cell_type": "code",
      "source": [
        "%%R\n",
        "\n",
        "install.packages(\"DESeq2\")\n",
        "library(DESeq2)"
      ],
      "metadata": {
        "id": "anv9_Y_jQ-tR"
      },
      "execution_count": null,
      "outputs": []
    },
    {
      "cell_type": "code",
      "source": [
        "%%R\n",
        "txdb <- EnsDb.Mmusculus.v79\n",
        "tx2gene <- transcripts(txdb,return.type=\"DataFrame\")\n",
        "tx2gene <- tx2gene[c(\"tx_id\",\"gene_id\")]\n",
        "files <- str_c(\"data/samples/\",samples)\n",
        "txi <- tximport(files, type = \"salmon\", tx2gene = tx2gene, ignoreTxVersion=T)\n",
        "tpm <- tximport(files, type = \"salmon\", tx2gene = tx2gene, ignoreTxVersion=T, countsFromAbundance = \"lengthScaledTPM\")$counts"
      ],
      "metadata": {
        "id": "i3W2Wo8XSY2e"
      },
      "execution_count": null,
      "outputs": []
    },
    {
      "cell_type": "code",
      "source": [
        "%%R\n",
        "sampleTable <- data.frame(condition = factor(rep(c(\"wt_water\",\"wt_bicarb\",\"ko_water\",\"ko_bicarb\"),each=4)))\n",
        "dds <- DESeqDataSetFromTximport(txi, sampleTable, ~condition)\n",
        "dds <- DESeq(dds)"
      ],
      "metadata": {
        "id": "8BtiJKjhn7Ug"
      },
      "execution_count": null,
      "outputs": []
    },
    {
      "cell_type": "code",
      "source": [
        "%%R\n",
        "vsdata <- vst(dds, blind=FALSE)\n",
        "plotPCA(vsdata, intgroup=\"condition\")+ theme_bw() "
      ],
      "metadata": {
        "colab": {
          "base_uri": "https://localhost:8080/",
          "height": 497
        },
        "id": "Qay6xpG0y42Q",
        "outputId": "82ca8284-61f7-4005-8119-e3e04ab2ecbf"
      },
      "execution_count": 55,
      "outputs": [
        {
          "output_type": "display_data",
          "data": {
            "image/png": "[encoded data removed]"
          },
          "metadata": {}
        }
      ]
    },
    {
      "cell_type": "markdown",
      "source": [
        "Видим, что на PCA достаточно наши образцы достаточно хорошо разделяются по генотипу. Посмотрим на изменение экспрессии генов между различными группами. Сначала глянем на краткое описание результатов работы DESeq2, чтобы понять, сколько у нас генов изменило свою экспрессию. "
      ],
      "metadata": {
        "id": "m9KxAw7D0ryC"
      }
    },
    {
      "cell_type": "code",
      "source": [
        "%%R\n",
        "summary(res)"
      ],
      "metadata": {
        "colab": {
          "base_uri": "https://localhost:8080/"
        },
        "id": "bcpZ0FVO21Bj",
        "outputId": "d9441732-abdf-4ee1-96df-baf8d90ef4f0"
      },
      "execution_count": 59,
      "outputs": [
        {
          "output_type": "stream",
          "name": "stdout",
          "text": [
            "\n",
            "out of 27530 with nonzero total read count\n",
            "adjusted p-value < 0.1\n",
            "LFC > 0 (up)       : 323, 1.2%\n",
            "LFC < 0 (down)     : 139, 0.5%\n",
            "outliers [1]       : 101, 0.37%\n",
            "low counts [2]     : 15582, 57%\n",
            "(mean count < 36)\n",
            "[1] see 'cooksCutoff' argument of ?results\n",
            "[2] see 'independentFiltering' argument of ?results\n",
            "\n"
          ]
        }
      ]
    },
    {
      "cell_type": "markdown",
      "source": [
        "Видим, что больше половины генов обладали слишком низким количество каунтов (57%). Ну ладно. Посмотрим на изменение экспрессии генов в мышах дикого типа с бикарбонатной диетой и в нокаутных мышах с такой диетой."
      ],
      "metadata": {
        "id": "Ky6TKhKr4KUd"
      }
    },
    {
      "cell_type": "code",
      "source": [
        "%%R\n",
        "resultsNames(dds)"
      ],
      "metadata": {
        "colab": {
          "base_uri": "https://localhost:8080/"
        },
        "id": "vanZN2URA_mD",
        "outputId": "343e6d87-37ee-4870-cc10-edf625dae6e6"
      },
      "execution_count": 106,
      "outputs": [
        {
          "output_type": "stream",
          "name": "stdout",
          "text": [
            "[1] \"Intercept\"                        \"condition_ko_water_vs_ko_bicarb\" \n",
            "[3] \"condition_wt_bicarb_vs_ko_bicarb\" \"condition_wt_water_vs_ko_bicarb\" \n"
          ]
        }
      ]
    },
    {
      "cell_type": "code",
      "source": [
        "%%R\n",
        "res <- na.omit(results(dds, name=\"condition_wt_bicarb_vs_ko_bicarb\"))\n",
        "data_for_volcano_plot <- data.frame(log2FC = res$log2FoldChange, padj = res$padj)"
      ],
      "metadata": {
        "id": "9vNc3NHy4bjr"
      },
      "execution_count": 65,
      "outputs": []
    },
    {
      "cell_type": "code",
      "source": [
        "%%R\n",
        "volcano <- function(condition){\n",
        "  res <- na.omit(results(dds, name=condition))\n",
        "  data_for_volcano_plot <- data.frame(log2FC = res$log2FoldChange, padj = res$padj)\n",
        "  data_for_volcano_plot %>% \n",
        "  ggplot(aes(x=log2FC,y=-log10(padj)))+\n",
        "  geom_point(aes(color = -log10(padj)))+\n",
        "  theme_bw()+\n",
        "  theme(\n",
        "    panel.grid.major = element_blank(),\n",
        "    panel.grid.minor = element_blank(),\n",
        "    panel.border = element_blank(),\n",
        "    axis.line = element_line(color=\"black\",\n",
        "                             size=0.5),\n",
        "    axis.ticks = element_line(color = \"black\",\n",
        "                              size=0.5)\n",
        "  )+\n",
        "  geom_vline(xintercept=0,linetype=\"dashed\",color=\"grey\")+\n",
        "  geom_hline(yintercept = -log10(0.05),linetype=\"dashed\",color=\"grey\")+\n",
        "  labs(\n",
        "    y = expression(-log[10]~pvalue~adjusted),\n",
        "    x = \"log2 fold change\"\n",
        "  )  \n",
        "}\n",
        "\n",
        "conditions <- list(\"condition_ko_water_vs_ko_bicarb\",\"condition_wt_bicarb_vs_ko_bicarb\")\n",
        "lapply(conditions,volcano)"
      ],
      "metadata": {
        "colab": {
          "base_uri": "https://localhost:8080/",
          "height": 1000
        },
        "id": "fORSUdDk5V3Z",
        "outputId": "a73022b9-7a57-4ad7-c3d0-be3d26429eb2"
      },
      "execution_count": 120,
      "outputs": [
        {
          "output_type": "stream",
          "name": "stdout",
          "text": [
            "[[1]]\n",
            "\n",
            "[[2]]\n",
            "\n"
          ]
        },
        {
          "output_type": "display_data",
          "data": {
            "image/png": "[encoded data removed]"
          },
          "metadata": {}
        },
        {
          "output_type": "display_data",
          "data": {
            "image/png": "[encoded data removed]"
          },
          "metadata": {}
        }
      ]
    },
    {
      "cell_type": "markdown",
      "source": [
        "Сравним p-value генов, полученных в результате работы нашей GLM-модели и DESeq2 на основании анализа дифф.экспрессии в групах \"нокаутные мыши на бикарбонатной диете\" и \"мыши дикого типа на бикарбонатной диете\"."
      ],
      "metadata": {
        "id": "QwdbfkL4Nb7Z"
      }
    },
    {
      "cell_type": "code",
      "source": [
        "%%R\n",
        "ggplot(qlftable_WaterKOWT,aes(x=logFC,y=-log10(PValue)))+\n",
        "  geom_point()+\n",
        "  theme_bw()"
      ],
      "metadata": {
        "colab": {
          "base_uri": "https://localhost:8080/",
          "height": 497
        },
        "id": "zuh0r2bJQXft",
        "outputId": "5ba2aa7a-deeb-4cd7-daa2-6b995b87fc92"
      },
      "execution_count": 119,
      "outputs": [
        {
          "output_type": "display_data",
          "data": {
            "image/png": "[encoded data removed]"
          },
          "metadata": {}
        }
      ]
    },
    {
      "cell_type": "markdown",
      "source": [
        "Видим, что в DESeq2 есть точки с огромным logFoldChange (>20), такого нет в GLM-модели, и высоких значений p-value (в DESeq2 есть точка на значениях 150) тоже не наблюдается. Возможно, это те самые гены, которые прям очень дифференциально экспрессируются, а может быть, это DESeq2 начудил, и это какие-то аутлайеры, которые весьма странно себя ведут (может быть, покрытие гена низкое вообще, и поэтому такая сильная разница). Тут я сказать, честно говоря, не могу."
      ],
      "metadata": {
        "id": "aY14b8tGS1ea"
      }
    },
    {
      "cell_type": "markdown",
      "source": [
        "**Чем edgeR отличается от DESeq2**\n",
        "\n",
        "Насколько я понял, там есть различия в процессе нормализации данных. DESeq2 нормализует на среднее геометрическое, а edgeR во время нормализации основывается на логарифмах взвешенных средних. Также я видел заявления, что у edgeR более строгий контроль за ошибками (more rigorous error rate control).\n",
        "\n",
        "Смотрел информацию на BioStars (https://www.biostars.org/p/284775/)\n"
      ],
      "metadata": {
        "id": "81x_VNDrFIBW"
      }
    }
  ]
}