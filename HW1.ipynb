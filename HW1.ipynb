{
  "cells": [
    {
      "cell_type": "markdown",
      "metadata": {
        "id": "view-in-github",
        "colab_type": "text"
      },
      "source": [
        "<a href=\"https://colab.research.google.com/github/EvgenEgorov/transcriptomics_msu_HW/blob/main/HW1.ipynb\" target=\"_parent\"><img src=\"https://colab.research.google.com/assets/colab-badge.svg\" alt=\"Open In Colab\"/></a>"
      ]
    },
    {
      "cell_type": "markdown",
      "metadata": {
        "id": "V67cia4EXH5a"
      },
      "source": [
        "# Семинар 1. Базовая работа с прочтениями\n",
        "\n",
        "На этом семинаре мы разберём, как хранятся прочтения, какие есть открытые базы данных с прочтениями, а также то, как с ними правильно работать."
      ]
    },
    {
      "cell_type": "markdown",
      "metadata": {
        "id": "4rLoS9QsdRhx"
      },
      "source": [
        "В данной части мы (для уменьшения времени выполнения) будем опираться на датасет <code>SRR3900953</code> (это не RNA-Seq!), однако абсолютно все те же процедуры можно выполнить и для RNA-Seq прочтений (про это будет домашнее задание)."
      ]
    },
    {
      "cell_type": "markdown",
      "metadata": {
        "id": "6Oo_Qo8dcnth"
      },
      "source": [
        "## Загрузка прочтений"
      ]
    },
    {
      "cell_type": "markdown",
      "metadata": {
        "id": "bI4GQExsmKSP"
      },
      "source": [
        "### SRA Toolkit"
      ]
    },
    {
      "cell_type": "markdown",
      "metadata": {
        "id": "Pu1G84tsmmxM"
      },
      "source": [
        "Для того, чтобы загрузить SRA-эксперимент и преобразовать его в .fastq-прочтения (мы сделаем это одновременно одной командой, однако можно выполнить их независимо), необходимо выполнить следующие команды. Сначала мы загрузим SRA Toolkit с сайта NCBI:"
      ]
    },
    {
      "cell_type": "code",
      "execution_count": null,
      "metadata": {
        "id": "8Io2LvW2fW-L"
      },
      "outputs": [],
      "source": [
        "!wget https://ftp-trace.ncbi.nlm.nih.gov/sra/sdk/3.0.0/sratoolkit.3.0.0-ubuntu64.tar.gz\n",
        "!tar -xvzf sratoolkit.3.0.0-ubuntu64.tar.gz"
      ]
    },
    {
      "cell_type": "markdown",
      "source": [
        "Нам необходимо загрузить прочтения при помощи программы <code>fasterq-dump</code> из SRA Toolkit. Внутри Google Colab настроить SRA Toolkit правильно крайне сложно, поэтому необходимо будет выполнить некоторую странную процедуру: специально вызвать Segmentation fault у инструмента <code>vdb-config</code>."
      ],
      "metadata": {
        "id": "A7Pi8Jvhnwpv"
      }
    },
    {
      "cell_type": "code",
      "execution_count": null,
      "metadata": {
        "id": "dTfvxgxCfnBi",
        "colab": {
          "base_uri": "https://localhost:8080/"
        },
        "outputId": "8fb6b8ac-07e5-4b3a-a2c4-eec3965a266a"
      },
      "outputs": [
        {
          "output_type": "stream",
          "name": "stdout",
          "text": [
            "\u001b[2J\u001b[?25l\u001b[?1000h\u001b[?1002h2022-11-16T12:18:13 vdb-config.3.0.0 fatal: SIGNAL - Segmentation fault \n"
          ]
        }
      ],
      "source": [
        "!sratoolkit.3.0.0-ubuntu64/bin/vdb-config -i"
      ]
    },
    {
      "cell_type": "markdown",
      "source": [
        "Теперь мы можем спокойно запустить <code>fastq-dump</code> и разархивировать наши прочтения:"
      ],
      "metadata": {
        "id": "5Zv1dtd7o7S9"
      }
    },
    {
      "cell_type": "code",
      "source": [
        "!sratoolkit.3.0.0-ubuntu64/bin/fasterq-dump SRR3900953"
      ],
      "metadata": {
        "colab": {
          "base_uri": "https://localhost:8080/"
        },
        "id": "Oww6_RFqnMDT",
        "outputId": "83f496ba-65ae-43b9-b319-860165cfeb81"
      },
      "execution_count": null,
      "outputs": [
        {
          "output_type": "stream",
          "name": "stdout",
          "text": [
            "spots read      : 4,941,237\n",
            "reads read      : 9,882,474\n",
            "reads written   : 9,882,474\n"
          ]
        }
      ]
    },
    {
      "cell_type": "markdown",
      "metadata": {
        "id": "l2PwnKaKmdtB"
      },
      "source": [
        "### SRA Explorer"
      ]
    },
    {
      "cell_type": "markdown",
      "metadata": {
        "id": "cIYjJgzgmpv1"
      },
      "source": [
        "Однако кроме вариантов загрузки из SRA при помощи SRA Toolkit можно попробовать загрузить прочтения при помощи web-страницы <a href=\"https://sra-explorer.info/\">SRA Explorer</a> &mdash; в таком случае пользователю просто будут указаны прямые ссылки на прочтения, а также много дополнительной информации. Однако не всегда это и правда поможет. Давайте посмотрим, какой результат будет при загрузке прочтений того же эксперимента из этого сервиса:"
      ]
    },
    {
      "cell_type": "code",
      "execution_count": null,
      "metadata": {
        "id": "ISnLFse3XEwB"
      },
      "outputs": [],
      "source": [
        "!wget ftp://ftp.sra.ebi.ac.uk/vol1/fastq/SRR390/003/SRR3900953/SRR3900953_1.fastq.gz\n",
        "!wget ftp://ftp.sra.ebi.ac.uk/vol1/fastq/SRR390/003/SRR3900953/SRR3900953_2.fastq.gz"
      ]
    },
    {
      "cell_type": "markdown",
      "source": [
        "Конкретно в данном случае всё хорошо, однако посмотрите на то, что предлагает загрузить SRA Explorer в случае с датасетом <code>SRR6410603</code> (из <a href=\"https://www.nature.com/articles/s41598-018-23226-4\">статьи</a>, с которой вы будете работать дома). Иногда для того, чтобы конкретно распарсить SRA-файл, необходимо чётко обозначить, что файл с прочтениями нужно разбить на два &mdash; с прямыми и с обратными (в случае парноконцевого секвенирования). Здесь это сделано не было. Программа <code>fasterq-dump</code> это делает автоматически."
      ],
      "metadata": {
        "id": "3ktnEtOsqbBi"
      }
    },
    {
      "cell_type": "markdown",
      "source": [
        "#### Задание\n",
        "\n",
        "Прочитайте описание <a href=\"https://github.com/ncbi/sra-tools/wiki/HowTo:-fasterq-dump\">функции fasterq-dump</a> и ответьте на вопрос: какой командой мы сможем получить вместо нескольких файлов с прочтениями (прямыми и обратными) всего один?"
      ],
      "metadata": {
        "id": "nfwWlxpHrN1s"
      }
    },
    {
      "cell_type": "code",
      "source": [
        "fasterq-dump *sra acession* --concatenate-reads -include-technical"
      ],
      "metadata": {
        "id": "mN-S-jJNra7s"
      },
      "execution_count": null,
      "outputs": []
    },
    {
      "cell_type": "markdown",
      "metadata": {
        "id": "upB-1luOndSV"
      },
      "source": [
        "## Контроль качества прочтений"
      ]
    },
    {
      "cell_type": "markdown",
      "source": [
        "### FastQC\n",
        "\n",
        "Для начала загрузим программу, при помощи которой мы будем проводить оценку качества, &mdash; <code>FastQC</code>."
      ],
      "metadata": {
        "id": "yaAbLnqz8Gz-"
      }
    },
    {
      "cell_type": "code",
      "execution_count": null,
      "metadata": {
        "id": "u4IUo_zmeF5O"
      },
      "outputs": [],
      "source": [
        "!wget https://www.bioinformatics.babraham.ac.uk/projects/fastqc/fastqc_v0.11.9.zip\n",
        "!unzip fastqc_v0.11.9.zip"
      ]
    },
    {
      "cell_type": "markdown",
      "source": [
        "Затем сделаем скрипт <code>fastqc</code> выполняемым. В результате выполним анализ качества наших прочтений и положим результаты и все репорты в папку <code>qc</code>, которую перед этим создадим."
      ],
      "metadata": {
        "id": "F5WJVvst7w4k"
      }
    },
    {
      "cell_type": "code",
      "source": [
        "!chmod +x FastQC/fastqc\n",
        "!mkdir qc\n",
        "!FastQC/fastqc -o qc -f fastq SRR3900953_1.fastq SRR3900953_2.fastq"
      ],
      "metadata": {
        "id": "TcxzHdIr7Rpe"
      },
      "execution_count": null,
      "outputs": []
    },
    {
      "cell_type": "markdown",
      "source": [
        "**Задание**\n",
        "\n",
        "Пожалуйста, посмотрите на .html-репорт, который выдаёт программа FastQC. Посмотрите, какие метрики контроля качества не проходят установленные в этой программе пороги. Объясните результаты. Посмотрите на результат работы FastQC на прочтениях RNA-Seq (загрузите при помощи команды `gdown --id 1tntpS8TBl3ERLMBYnso7tNiHeFVRmk8w`). В чём разница и почему?"
      ],
      "metadata": {
        "id": "5LPDFI8M-wMO"
      }
    },
    {
      "cell_type": "code",
      "source": [
        "!gdown --id 1tntpS8TBl3ERLMBYnso7tNiHeFVRmk8w"
      ],
      "metadata": {
        "id": "HXXvec72-a00",
        "colab": {
          "base_uri": "https://localhost:8080/"
        },
        "outputId": "aa6a8b6a-1444-4485-df23-82fe54441fd9"
      },
      "execution_count": null,
      "outputs": [
        {
          "output_type": "stream",
          "name": "stdout",
          "text": [
            "/usr/local/lib/python3.7/dist-packages/gdown/cli.py:131: FutureWarning: Option `--id` was deprecated in version 4.3.1 and will be removed in 5.0. You don't need to pass it anymore to use a file ID.\n",
            "  category=FutureWarning,\n",
            "Downloading...\n",
            "From: https://drive.google.com/uc?id=1tntpS8TBl3ERLMBYnso7tNiHeFVRmk8w\n",
            "To: /content/RNA-Seq_FastQC_example.html\n",
            "100% 668k/668k [00:00<00:00, 131MB/s]\n"
          ]
        }
      ]
    },
    {
      "cell_type": "markdown",
      "source": [
        "**Ответ**\n",
        "\n",
        "Порог качества в файлах SRR3900953_1.fastq и SRR3900953_2.fastq не проходят параметры Overrepresented sequences (перепредставленные последовательности - может быть как артефакт ПЦР, так и особенность копийности генов в нашем эксперименте) и Sequence Duplication Levels (дупликация последовательностей - причины могут быть те же самые, что и в предыдущем пункте). Также есть проблемы с соотношением нуклеотидов в ридах (вероятно, просто \"случайные\" праймеры отожглись совсем не случайно, поэтому в начале рида находятся неслучайные буквы).\n",
        "\n",
        "По поводу разницы работы FastQC на прочтениях RNA-Seq - там, в отличие от наших предыдущих отчётов, хранится ещё информация о качестве ридов в зависимости от их положения на проточной ячейке, это важно для отслеживания качества оборудования, с помощью которого выполняют секвенирование"
      ],
      "metadata": {
        "id": "pQ-qMmoukTXi"
      }
    },
    {
      "cell_type": "markdown",
      "source": [
        "### MultiQC\n",
        "\n",
        "Теперь установим программу MultiQC. Она необходима для того, чтобы комбинировать несколько различных отчётов в один. Запустим её, дав путь к директории с отчётами FastQC, и посмотрим на .html-отчёт, который будет получен в результате запуска."
      ],
      "metadata": {
        "id": "fk-7OOxP_BHC"
      }
    },
    {
      "cell_type": "code",
      "source": [
        "!pip3 install multiqc\n",
        "!multiqc qc"
      ],
      "metadata": {
        "id": "UkBWHqrJ7c-h"
      },
      "execution_count": null,
      "outputs": []
    },
    {
      "cell_type": "markdown",
      "source": [
        "В случае, когда вы работаете сразу с большим количеством образцов, это может значительно ускорить процесс анализа данных, а также легко понять, по какой причине те или иные точки могут быть аутлаерами (например, определить образцы с низким по сравнению с другими покрытием и проч.)\n",
        "\n",
        "После этого можно загрузить .html-отчёт о качестве себе на компьютер и посмотреть, всё ли хорошо с прочтениями. Рассмотрим каждый пункт отчёта и возможные проблемы при анализе bulk RNA-Seq:\n",
        "1. Sequence Quality Histograms\n",
        "2. Per Sequence Quality Scores\n",
        "3. <b>Per Base Sequence Content</b> &mdash; проблемы тут в случае RNA-Seq связаны с особенностью подготовки библиотеки (использовались случайные праймеры)\n",
        "4. Per Sequence GC Content\n",
        "5. Per Base N Content\n",
        "6. Sequence Length Distribution\n",
        "7. <b>Sequence Duplication Levels</b> &mdash; в основе порогов данной метрики лежит предположение, что высокое количество дублирующихся прочтений говорит об артефактах ПЦР (это справедливо для, например, геномных библиотек, в которых встретить два одинаковых рида очень маловероятно). Однако для RNA-Seq-экспериментов это нормально, потому что какие-то гены могут встречаться очень часто из-за высокой копийности их РНК (<a href=\"https://www.bioinformatics.babraham.ac.uk/projects/fastqc/Help/3%20Analysis%20Modules/8%20Duplicate%20Sequences.html\" target=\"_blank\">источник</a>)\n",
        "8. <b>Overrepresented sequences</b> &mdash; проблема вызвана аналогичными седьмому пункту проблемами (<a href=\"https://www.bioinformatics.babraham.ac.uk/projects/fastqc/Help/3%20Analysis%20Modules/9%20Overrepresented%20Sequences.html\" target=\"_blank\">источник</a>)\n",
        "9. <b>Adapter Content</b> &mdash; мы видим, что у нас в большом числе прочтений содержатся технические адаптеры. Однако почти все современные алгоритмы для работы с RNA-Seq (в т.ч. и kallisto и STAR) автоматически прорабатывают эту проблему, поэтому мануального устранения не требуется (<a href=\"https://dnatech.genomecenter.ucdavis.edu/faqs/when-should-i-trim-my-illumina-reads-and-how-should-i-do-it/\" target=\"_blank\">про то, когда и зачем лучше обрезать адаптеры</a>)"
      ],
      "metadata": {
        "id": "nc-9yOg9AoUW"
      }
    },
    {
      "cell_type": "markdown",
      "source": [
        "## Введение в Nexflow\n",
        "\n",
        "NextFlow &mdash; это специальный язык, который позволяет вам запускать целые пайплайны из нескольких последовательно выполняемых программ, следя за тем, чтобы каждая стадия выполнялась строго одна за одной."
      ],
      "metadata": {
        "id": "d3uy3diIOves"
      }
    },
    {
      "cell_type": "code",
      "source": [
        "!curl -fsSL https://get.nextflow.io | bash"
      ],
      "metadata": {
        "id": "CXTGOLCzO27n"
      },
      "execution_count": null,
      "outputs": []
    },
    {
      "cell_type": "markdown",
      "source": [
        "Теперь создадим файл <code>my_pipeline.nf</code> со следующим содержанием:\n",
        "```\n",
        "params.SRA = \"SRR000000\"\n",
        "params.results_dir = \"results/\"\n",
        "\n",
        "log.info \"\"\n",
        "log.info \"  Q U A L I T Y   C O N T R O L  \"\n",
        "log.info \"=================================\"\n",
        "log.info \"SRA number         : ${params.SRA}\"\n",
        "log.info \"Results location   : ${params.results_dir}\"\n",
        "```"
      ],
      "metadata": {
        "id": "rFMYCNXkHh8g"
      }
    },
    {
      "cell_type": "markdown",
      "source": [
        "А теперь попробуйте передать различные значения флагов, которые вы описали выше, команде <code>nextflow run my_pipeline.nf</code>:"
      ],
      "metadata": {
        "id": "Q6z6SrM4LYJF"
      }
    },
    {
      "cell_type": "code",
      "source": [
        "!./nextflow run --SRA SRR3900953 my_pipeline.nf"
      ],
      "metadata": {
        "colab": {
          "base_uri": "https://localhost:8080/"
        },
        "id": "OxLuSZbYPETe",
        "outputId": "2091fb09-84fd-4dd3-fae7-555f2d983211"
      },
      "execution_count": null,
      "outputs": [
        {
          "output_type": "stream",
          "name": "stdout",
          "text": [
            "N E X T F L O W  ~  version 22.10.2\n",
            "Launching `my_pipeline.nf` [confident_pasteur] DSL2 - revision: a54422bfe5\n",
            "\n",
            "  Q U A L I T Y   C O N T R O L  \n",
            "=================================\n",
            "SRA number         : SRR3900953\n",
            "Results location   : results/\n"
          ]
        }
      ]
    },
    {
      "cell_type": "markdown",
      "source": [
        "Теперь модифицируем наш файл так, чтобы он выполнял какой-то процесс. Например, загрузку прочтений по SRA-идентификатору:\n",
        "```\n",
        "params.SRA = \"SRR000000\"\n",
        "params.results_dir = \"results/\"\n",
        "\n",
        "log.info \"\"\n",
        "log.info \"  Q U A L I T Y   C O N T R O L  \"\n",
        "log.info \"=================================\"\n",
        "log.info \"SRA number         : ${params.SRA}\"\n",
        "log.info \"Results location   : ${params.results_dir}\"\n",
        "\n",
        "process DownloadFastQ {\n",
        "  publishDir \"${params.results_dir}\"\n",
        "\n",
        "  output:\n",
        "    path \"reads/*\"\n",
        "\n",
        "  script:\n",
        "    \"\"\"\n",
        "    /content/sratoolkit.3.0.0-ubuntu64/bin/fasterq-dump ${params.SRA} -O reads/\n",
        "    \"\"\"\n",
        "}\n",
        "\n",
        "workflow {\n",
        "  DownloadFastQ()\n",
        "}\n",
        "```\n",
        "\n",
        "А теперь выполните скрипт и проследите за тем, какие файлы создаются в ходе выполнения скрипта:"
      ],
      "metadata": {
        "id": "QWaeDHkYLtJp"
      }
    },
    {
      "cell_type": "code",
      "source": [
        "!./nextflow run my_pipeline.nf --SRA SRR3900953"
      ],
      "metadata": {
        "colab": {
          "base_uri": "https://localhost:8080/"
        },
        "id": "_iyupT1xNR46",
        "outputId": "afd3f3ed-787b-4197-c21b-7305687cf5d1"
      },
      "execution_count": null,
      "outputs": [
        {
          "output_type": "stream",
          "name": "stdout",
          "text": [
            "N E X T F L O W  ~  version 22.10.2\n",
            "Launching `my_pipeline.nf` [sad_venter] DSL2 - revision: 00b75134cc\n",
            "\n",
            "  Q U A L I T Y   C O N T R O L  \n",
            "=================================\n",
            "SRA number         : SRR3900953\n",
            "Results location   : results/\n",
            "[-        ] process > DownloadFastQ -\u001b[K\n",
            "\u001b[2A\n",
            "executor >  local (1)\u001b[K\n",
            "[52/f968a4] process > DownloadFastQ [  0%] 0 of 1\u001b[K\n",
            "\u001b[3A\n",
            "executor >  local (1)\u001b[K\n",
            "[52/f968a4] process > DownloadFastQ [  0%] 0 of 1\u001b[K\n",
            "\u001b[3A\n",
            "executor >  local (1)\u001b[K\n",
            "[52/f968a4] process > DownloadFastQ [100%] 1 of 1 ✔\u001b[K\n",
            "\u001b[32;1mCompleted at: 16-Nov-2022 13:28:33\n",
            "Duration    : 1m 16s\n",
            "CPU hours   : (a few seconds)\n",
            "Succeeded   : 1\n",
            "\u001b[22;39m\u001b[K\n",
            "\n"
          ]
        }
      ]
    },
    {
      "cell_type": "markdown",
      "source": [
        "Теперь модифицируем скрипт так, чтобы в итоговую директорию он сохранял как прочтения, так и результаты работы FastQC для всех прочтений:\n",
        "```\n",
        "params.SRA = \"SRR000000\"\n",
        "params.results_dir = \"results/\"\n",
        "\n",
        "log.info \"\"\n",
        "log.info \"  Q U A L I T Y   C O N T R O L  \"\n",
        "log.info \"=================================\"\n",
        "log.info \"SRA number         : ${params.SRA}\"\n",
        "log.info \"Results location   : ${params.results_dir}\"\n",
        "\n",
        "process DownloadFastQ {\n",
        "  publishDir \"${params.results_dir}\"\n",
        "\n",
        "  output:\n",
        "    path \"reads/*\"\n",
        "\n",
        "  script:\n",
        "    \"\"\"\n",
        "    /content/sratoolkit.3.0.0-ubuntu64/bin/fasterq-dump ${params.SRA} -O reads/\n",
        "    \"\"\"\n",
        "}\n",
        "\n",
        "process QC {\n",
        "  publishDir \"${params.results_dir}\"\n",
        "\n",
        "  input:\n",
        "    path x\n",
        "\n",
        "  output:\n",
        "    path \"qc/*.html\"\n",
        "\n",
        "  script:\n",
        "    \"\"\"\n",
        "    mkdir qc\n",
        "    /content/FastQC/fastqc -o qc $x\n",
        "    \"\"\"\n",
        "}\n",
        "\n",
        "workflow {\n",
        "  DownloadFastQ()\n",
        "  QC( DownloadFastQ.out.collect() )\n",
        "}\n",
        "```"
      ],
      "metadata": {
        "id": "XMZLt0SYbp-w"
      }
    },
    {
      "cell_type": "code",
      "source": [
        "!./nextflow run my_pipeline.nf --SRA SRR3900953"
      ],
      "metadata": {
        "colab": {
          "base_uri": "https://localhost:8080/"
        },
        "id": "XDXFre4LaA_S",
        "outputId": "9dea9b73-9e3b-49ce-a3e4-0b3164a80ba0"
      },
      "execution_count": null,
      "outputs": [
        {
          "output_type": "stream",
          "name": "stdout",
          "text": [
            "N E X T F L O W  ~  version 22.10.2\n",
            "Launching `my_pipeline.nf` [naughty_goldwasser] DSL2 - revision: 4457d4ca78\n",
            "\n",
            "  Q U A L I T Y   C O N T R O L  \n",
            "=================================\n",
            "SRA number         : SRR3900953\n",
            "Results location   : results/\n",
            "[-        ] process > DownloadFastQ -\u001b[K\n",
            "[-        ] process > QC            -\u001b[K\n",
            "\u001b[3A\n",
            "[-        ] process > DownloadFastQ [  0%] 0 of 1\u001b[K\n",
            "[-        ] process > QC            -\u001b[K\n",
            "\u001b[3A\n",
            "executor >  local (1)\u001b[K\n",
            "[a2/7b01b2] process > DownloadFastQ [  0%] 0 of 1\u001b[K\n",
            "[-        ] process > QC            -\u001b[K\n",
            "\u001b[4A\n",
            "executor >  local (2)\u001b[K\n",
            "[a2/7b01b2] process > DownloadFastQ [100%] 1 of 1 ✔\u001b[K\n",
            "[d1/025817] process > QC            [  0%] 0 of 1\u001b[K\n",
            "\u001b[4A\n",
            "executor >  local (2)\u001b[K\n",
            "[a2/7b01b2] process > DownloadFastQ [100%] 1 of 1 ✔\u001b[K\n",
            "[d1/025817] process > QC            [100%] 1 of 1 ✔\u001b[K\n",
            "\u001b[32;1mCompleted at: 16-Nov-2022 13:32:21\n",
            "Duration    : 1m 39s\n",
            "CPU hours   : (a few seconds)\n",
            "Succeeded   : 2\n",
            "\u001b[22;39m\u001b[K\n",
            "\n"
          ]
        }
      ]
    },
    {
      "cell_type": "markdown",
      "source": [
        "**Задание**\n",
        "\n",
        "Добавьте в пайплайн выполнение MultiQC (чтобы в итоговой директории оказывался только отчёт MultiQC в .html, но без отчётов FastQC)."
      ],
      "metadata": {
        "id": "6D2lK0QeDNII"
      }
    },
    {
      "cell_type": "markdown",
      "source": [
        "**Пайплайн**\n",
        "```\n",
        "params.results_dir = \"results/\"\n",
        "SRA_list = params.SRA.split(\",\")\n",
        "\n",
        "log.info \"\"\n",
        "log.info \"  Q U A L I T Y   C O N T R O L  \"\n",
        "log.info \"=================================\"\n",
        "log.info \"SRA number         : ${SRA_list}\"\n",
        "log.info \"Results location   : ${params.results_dir}\"\n",
        "\n",
        "process DownloadFastQ {\n",
        "  publishDir \"${params.results_dir}\"\n",
        "\n",
        "  input:\n",
        "    val sra\n",
        "\n",
        "  output:\n",
        "    path \"${sra}/*\"\n",
        "\n",
        "  script:\n",
        "    \"\"\"\n",
        "    /content/sratoolkit.3.0.0-ubuntu64/bin/fasterq-dump ${sra} -O ${sra}/\n",
        "    \"\"\"\n",
        "}\n",
        "\n",
        "process QC {\n",
        "  input:\n",
        "    path x\n",
        "\n",
        "  output:\n",
        "    path \"qc\"\n",
        "\n",
        "  script:\n",
        "    \"\"\"\n",
        "    mkdir qc\n",
        "    /content/FastQC/fastqc -o qc $x\n",
        "    \"\"\"\n",
        "}\n",
        "\n",
        "process MultiQC {\n",
        "  publishDir \"${params.results_dir}\"\n",
        "\n",
        "  input:\n",
        "    path x\n",
        "\n",
        "  output:\n",
        "    path \"multiqc_report.html\"\n",
        "\n",
        "  script:\n",
        "    \"\"\"\n",
        "    multiqc $x\n",
        "    \"\"\"\n",
        "}\n",
        "\n",
        "workflow {\n",
        "  data = Channel.of( SRA_list )\n",
        "  DownloadFastQ(data)\n",
        "  QC( DownloadFastQ.out )\n",
        "  MultiQC( QC.out.collect() )\n",
        "}\n",
        "```"
      ],
      "metadata": {
        "id": "3bxkHs08srxA"
      }
    },
    {
      "cell_type": "code",
      "source": [
        "!./nextflow run my_pipeline.nf --SRA SRR3900953"
      ],
      "metadata": {
        "id": "V5wB82ZHDV4a",
        "colab": {
          "base_uri": "https://localhost:8080/"
        },
        "outputId": "b1dde1c1-9fb8-4157-f40c-c2c1851b9966"
      },
      "execution_count": null,
      "outputs": [
        {
          "output_type": "stream",
          "name": "stdout",
          "text": [
            "N E X T F L O W  ~  version 22.10.2\n",
            "Launching `my_pipeline.nf` [drunk_heisenberg] DSL2 - revision: 8bb2b8fd7c\n",
            "\n",
            "  Q U A L I T Y   C O N T R O L  \n",
            "=================================\n",
            "SRA number         : [SRR3900953]\n",
            "Results location   : results/\n",
            "[-        ] process > DownloadFastQ -\u001b[K\n",
            "[-        ] process > QC            -\u001b[K\n",
            "[-        ] process > MultiQC       -\u001b[K\n",
            "\u001b[4A\n",
            "executor >  local (1)\u001b[K\n",
            "[18/ed8544] process > DownloadFastQ (1) [  0%] 0 of 1\u001b[K\n",
            "[-        ] process > QC                -\u001b[K\n",
            "[-        ] process > MultiQC           -\u001b[K\n",
            "\u001b[5A\n",
            "executor >  local (2)\u001b[K\n",
            "[18/ed8544] process > DownloadFastQ (1) [100%] 1 of 1 ✔\u001b[K\n",
            "[73/cacd4c] process > QC (1)            [  0%] 0 of 1\u001b[K\n",
            "[-        ] process > MultiQC           -\u001b[K\n",
            "\u001b[5A\n",
            "executor >  local (2)\u001b[K\n",
            "[18/ed8544] process > DownloadFastQ (1) [100%] 1 of 1 ✔\u001b[K\n",
            "[73/cacd4c] process > QC (1)            [  0%] 0 of 1\u001b[K\n",
            "[-        ] process > MultiQC           -\u001b[K\n",
            "\u001b[5A\n",
            "executor >  local (3)\u001b[K\n",
            "[18/ed8544] process > DownloadFastQ (1) [100%] 1 of 1 ✔\u001b[K\n",
            "[73/cacd4c] process > QC (1)            [100%] 1 of 1 ✔\u001b[K\n",
            "[89/4ee1ee] process > MultiQC           [  0%] 0 of 1\u001b[K\n",
            "\u001b[5A\n",
            "executor >  local (3)\u001b[K\n",
            "[18/ed8544] process > DownloadFastQ (1) [100%] 1 of 1 ✔\u001b[K\n",
            "[73/cacd4c] process > QC (1)            [100%] 1 of 1 ✔\u001b[K\n",
            "[89/4ee1ee] process > MultiQC           [100%] 1 of 1 ✔\u001b[K\n",
            "\u001b[32;1mCompleted at: 16-Nov-2022 13:50:07\n",
            "Duration    : 1m 57s\n",
            "CPU hours   : (a few seconds)\n",
            "Succeeded   : 3\n",
            "\u001b[22;39m\u001b[K\n",
            "\n"
          ]
        }
      ]
    },
    {
      "cell_type": "markdown",
      "source": [
        "Для того, чтобы обкспечить параллельный запуск сразу нескольких процессов одним и тем же пайплайном, необходимо распарсить аргумент, который мы подаём в переменную <code>SRA</code> как список, после чего запустить наш немного модифицированный пайплайн:\n",
        "```\n",
        "params.results_dir = \"results/\"\n",
        "SRA_list = params.SRA.split(\",\")\n",
        "\n",
        "log.info \"\"\n",
        "log.info \"  Q U A L I T Y   C O N T R O L  \"\n",
        "log.info \"=================================\"\n",
        "log.info \"SRA number         : ${SRA_list}\"\n",
        "log.info \"Results location   : ${params.results_dir}\"\n",
        "\n",
        "process DownloadFastQ {\n",
        "  publishDir \"${params.results_dir}\"\n",
        "\n",
        "  input:\n",
        "    val sra\n",
        "\n",
        "  output:\n",
        "    path \"${sra}/*\"\n",
        "\n",
        "  script:\n",
        "    \"\"\"\n",
        "    /content/sratoolkit.3.0.0-ubuntu64/bin/fasterq-dump ${sra} -O ${sra}/\n",
        "    \"\"\"\n",
        "}\n",
        "\n",
        "process QC {\n",
        "  input:\n",
        "    path x\n",
        "\n",
        "  output:\n",
        "    path \"qc\"\n",
        "\n",
        "  script:\n",
        "    \"\"\"\n",
        "    mkdir qc\n",
        "    /content/FastQC/fastqc -o qc $x\n",
        "    \"\"\"\n",
        "}\n",
        "\n",
        "process MultiQC {\n",
        "  publishDir \"${params.results_dir}\"\n",
        "\n",
        "  input:\n",
        "    path x\n",
        "\n",
        "  output:\n",
        "    path \"multiqc_report.html\"\n",
        "\n",
        "  script:\n",
        "    \"\"\"\n",
        "    multiqc $x\n",
        "    \"\"\"\n",
        "}\n",
        "\n",
        "workflow {\n",
        "  data = Channel.of( SRA_list )\n",
        "  DownloadFastQ(data)\n",
        "  QC( DownloadFastQ.out )\n",
        "  MultiQC( QC.out.collect() )\n",
        "}\n",
        "```\n",
        "Для примера возьмём результаты секвенирования пост-ковидного кишечного метагенома (`SRR20851170`, `SRR20851171`, `SRR20851172`, `SRR20851173`, `SRR20851174`, `SRR20851176`, `SRR20851179`, `SRR20851183`)."
      ],
      "metadata": {
        "id": "2lsLkuZmGJ_0"
      }
    },
    {
      "cell_type": "code",
      "source": [
        "!./nextflow run my_pipeline.nf -with-report nextflow_report.html -with-dag flowchart.pdf --SRA SRR20851170,SRR20851171,SRR20851172,SRR20851173,SRR20851174,SRR20851176,SRR20851179,SRR20851183"
      ],
      "metadata": {
        "colab": {
          "base_uri": "https://localhost:8080/"
        },
        "id": "AAhMSuxpK-Ux",
        "outputId": "96dde79c-fb3b-4718-9980-566207f05995"
      },
      "execution_count": null,
      "outputs": [
        {
          "output_type": "stream",
          "name": "stdout",
          "text": [
            "N E X T F L O W  ~  version 22.10.2\n",
            "Launching `my_pipeline.nf` [pedantic_woese] DSL2 - revision: 30656d3ce8\n",
            "\n",
            "  Q U A L I T Y   C O N T R O L  \n",
            "=================================\n",
            "SRA number         : [SRR20851170, SRR20851171, SRR20851172, SRR20851173, SRR20851174, SRR20851176, SRR20851179, SRR20851183]\n",
            "Results location   : results/\n",
            "[-        ] process > DownloadFastQ -\u001b[K\n",
            "[-        ] process > QC            -\u001b[K\n",
            "[-        ] process > MultiQC       -\u001b[K\n",
            "\u001b[4A\n",
            "[-        ] process > DownloadFastQ [  0%] 0 of 8\u001b[K\n",
            "[-        ] process > QC            -\u001b[K\n",
            "[-        ] process > MultiQC       -\u001b[K\n",
            "\u001b[4A\n",
            "executor >  local (2)\u001b[K\n",
            "[de/e8b2b5] process > DownloadFastQ (1) [  0%] 0 of 8\u001b[K\n",
            "[-        ] process > QC                -\u001b[K\n",
            "[-        ] process > MultiQC           -\u001b[K\n",
            "\u001b[5A\n",
            "executor >  local (3)\u001b[K\n",
            "[8c/e6aef8] process > DownloadFastQ (3) [  0%] 0 of 8\u001b[K\n",
            "[-        ] process > QC                -\u001b[K\n",
            "[-        ] process > MultiQC           -\u001b[K\n",
            "\u001b[5A\n",
            "executor >  local (3)\u001b[K\n",
            "[de/e8b2b5] process > DownloadFastQ (1) [ 12%] 1 of 8\u001b[K\n",
            "[-        ] process > QC                [  0%] 0 of 1\u001b[K\n",
            "[-        ] process > MultiQC           -\u001b[K\n",
            "\u001b[5A\n",
            "executor >  local (4)\u001b[K\n",
            "[dc/34bb94] process > DownloadFastQ (4) [ 25%] 2 of 8\u001b[K\n",
            "[-        ] process > QC                [  0%] 0 of 2\u001b[K\n",
            "[-        ] process > MultiQC           -\u001b[K\n",
            "\u001b[5A\n",
            "executor >  local (5)\u001b[K\n",
            "[5b/0f33a3] process > DownloadFastQ (5) [ 37%] 3 of 8\u001b[K\n",
            "[-        ] process > QC                [  0%] 0 of 3\u001b[K\n",
            "[-        ] process > MultiQC           -\u001b[K\n",
            "\u001b[5A\n",
            "executor >  local (5)\u001b[K\n",
            "[5b/0f33a3] process > DownloadFastQ (5) [ 37%] 3 of 8\u001b[K\n",
            "[-        ] process > QC                [  0%] 0 of 3\u001b[K\n",
            "[-        ] process > MultiQC           -\u001b[K\n",
            "\u001b[5A\n",
            "executor >  local (6)\u001b[K\n",
            "[6b/05228f] process > DownloadFastQ (7) [ 50%] 4 of 8\u001b[K\n",
            "[-        ] process > QC                [  0%] 0 of 4\u001b[K\n",
            "[-        ] process > MultiQC           -\u001b[K\n",
            "\u001b[5A\n",
            "executor >  local (7)\u001b[K\n",
            "[5b/0f33a3] process > DownloadFastQ (5) [ 62%] 5 of 8\u001b[K\n",
            "[-        ] process > QC                [  0%] 0 of 5\u001b[K\n",
            "[-        ] process > MultiQC           -\u001b[K\n",
            "\u001b[5A\n",
            "executor >  local (8)\u001b[K\n",
            "[6b/05228f] process > DownloadFastQ (7) [ 75%] 6 of 8\u001b[K\n",
            "[-        ] process > QC                [  0%] 0 of 6\u001b[K\n",
            "[-        ] process > MultiQC           -\u001b[K\n",
            "\u001b[5A\n",
            "executor >  local (9)\u001b[K\n",
            "[61/86c6ba] process > DownloadFastQ (6) [ 87%] 7 of 8\u001b[K\n",
            "[06/e2d6bc] process > QC (1)            [  0%] 0 of 7\u001b[K\n",
            "[-        ] process > MultiQC           -\u001b[K\n",
            "\u001b[5A\n",
            "executor >  local (9)\u001b[K\n",
            "[61/86c6ba] process > DownloadFastQ (6) [ 87%] 7 of 8\u001b[K\n",
            "[06/e2d6bc] process > QC (1)            [  0%] 0 of 7\u001b[K\n",
            "[-        ] process > MultiQC           -\u001b[K\n",
            "\u001b[5A\n",
            "executor >  local (10)\u001b[K\n",
            "[0d/6c56ad] process > DownloadFastQ (8) [100%] 8 of 8 ✔\u001b[K\n",
            "[49/0c2abd] process > QC (2)            [  0%] 0 of 8\u001b[K\n",
            "[-        ] process > MultiQC           -\u001b[K\n",
            "\u001b[5A\n",
            "executor >  local (10)\u001b[K\n",
            "[0d/6c56ad] process > DownloadFastQ (8) [100%] 8 of 8 ✔\u001b[K\n",
            "[49/0c2abd] process > QC (2)            [  0%] 0 of 8\u001b[K\n",
            "[-        ] process > MultiQC           -\u001b[K\n",
            "\u001b[5A\n",
            "executor >  local (11)\u001b[K\n",
            "[0d/6c56ad] process > DownloadFastQ (8) [100%] 8 of 8 ✔\u001b[K\n",
            "[6b/655589] process > QC (3)            [ 12%] 1 of 8\u001b[K\n",
            "[-        ] process > MultiQC           -\u001b[K\n",
            "\u001b[5A\n",
            "executor >  local (12)\u001b[K\n",
            "[0d/6c56ad] process > DownloadFastQ (8) [100%] 8 of 8 ✔\u001b[K\n",
            "[75/479071] process > QC (4)            [ 25%] 2 of 8\u001b[K\n",
            "[-        ] process > MultiQC           -\u001b[K\n",
            "\u001b[5A\n",
            "executor >  local (13)\u001b[K\n",
            "[0d/6c56ad] process > DownloadFastQ (8) [100%] 8 of 8 ✔\u001b[K\n",
            "[e6/59ff6e] process > QC (5)            [ 37%] 3 of 8\u001b[K\n",
            "[-        ] process > MultiQC           -\u001b[K\n",
            "\u001b[5A\n",
            "executor >  local (14)\u001b[K\n",
            "[0d/6c56ad] process > DownloadFastQ (8) [100%] 8 of 8 ✔\u001b[K\n",
            "[6b/655589] process > QC (3)            [ 50%] 4 of 8\u001b[K\n",
            "[-        ] process > MultiQC           -\u001b[K\n",
            "\u001b[5A\n",
            "executor >  local (15)\u001b[K\n",
            "[0d/6c56ad] process > DownloadFastQ (8) [100%] 8 of 8 ✔\u001b[K\n",
            "[e6/59ff6e] process > QC (5)            [ 62%] 5 of 8\u001b[K\n",
            "[-        ] process > MultiQC           -\u001b[K\n",
            "\u001b[5A\n",
            "executor >  local (16)\u001b[K\n",
            "[0d/6c56ad] process > DownloadFastQ (8) [100%] 8 of 8 ✔\u001b[K\n",
            "[22/7d36f7] process > QC (8)            [ 75%] 6 of 8\u001b[K\n",
            "[-        ] process > MultiQC           -\u001b[K\n",
            "\u001b[5A\n",
            "executor >  local (16)\u001b[K\n",
            "[0d/6c56ad] process > DownloadFastQ (8) [100%] 8 of 8 ✔\u001b[K\n",
            "[22/7d36f7] process > QC (8)            [ 75%] 6 of 8\u001b[K\n",
            "[-        ] process > MultiQC           -\u001b[K\n",
            "\u001b[5A\n",
            "executor >  local (16)\u001b[K\n",
            "[0d/6c56ad] process > DownloadFastQ (8) [100%] 8 of 8 ✔\u001b[K\n",
            "[a9/962ca5] process > QC (7)            [ 87%] 7 of 8\u001b[K\n",
            "[-        ] process > MultiQC           -\u001b[K\n",
            "\u001b[5A\n",
            "executor >  local (17)\u001b[K\n",
            "[0d/6c56ad] process > DownloadFastQ (8) [100%] 8 of 8 ✔\u001b[K\n",
            "[22/7d36f7] process > QC (8)            [100%] 8 of 8 ✔\u001b[K\n",
            "[c0/570feb] process > MultiQC           [  0%] 0 of 1\u001b[K\n",
            "\u001b[5A\n",
            "executor >  local (17)\u001b[K\n",
            "[0d/6c56ad] process > DownloadFastQ (8) [100%] 8 of 8 ✔\u001b[K\n",
            "[22/7d36f7] process > QC (8)            [100%] 8 of 8 ✔\u001b[K\n",
            "[c0/570feb] process > MultiQC           [  0%] 0 of 1\u001b[K\n",
            "\u001b[5A\n",
            "executor >  local (17)\u001b[K\n",
            "[0d/6c56ad] process > DownloadFastQ (8) [100%] 8 of 8 ✔\u001b[K\n",
            "[22/7d36f7] process > QC (8)            [100%] 8 of 8 ✔\u001b[K\n",
            "[c0/570feb] process > MultiQC           [100%] 1 of 1 ✔\u001b[K\n",
            "\u001b[5A\n",
            "executor >  local (17)\u001b[K\n",
            "[0d/6c56ad] process > DownloadFastQ (8) [100%] 8 of 8 ✔\u001b[K\n",
            "[22/7d36f7] process > QC (8)            [100%] 8 of 8 ✔\u001b[K\n",
            "[c0/570feb] process > MultiQC           [100%] 1 of 1 ✔\u001b[K\n",
            "\u001b[32;1mCompleted at: 16-Nov-2022 13:59:01\n",
            "Duration    : 2m 3s\n",
            "CPU hours   : 0.1\n",
            "Succeeded   : 17\n",
            "\u001b[22;39m\u001b[K\n",
            "\n"
          ]
        }
      ]
    },
    {
      "cell_type": "markdown",
      "source": [
        "**Задание**\n",
        "\n",
        "Посмотрите на содержимое файов `flowchart.pdf` и `nextflow_report.html`. Что в них описано и как это может помочь при реализации пайплайна?"
      ],
      "metadata": {
        "id": "SehKyf5baKHu"
      }
    },
    {
      "cell_type": "markdown",
      "source": [
        "**Ответ на задание**\n",
        "\n",
        "В файле `flowchart.pdf` представлена визуализация пайплайна в виде графа - может помочь для представления о порядке выполнения действий в нашем пайплайне, удобно.\n",
        "\n",
        "В файле `nextflow_report.html` представлены технические характеристики каждого процесса  - подобный отчёт можно использовать, чтобы понять, какой процесс в пайплайне самый ресурсоёмкий, да и в принципе знать, как распределяется использование памяти и вычислительных ресурсов в пайплайне\n"
      ],
      "metadata": {
        "id": "eOPQAFtgvL_f"
      }
    },
    {
      "cell_type": "markdown",
      "source": [
        "## Выгрузка данных на GEO\n",
        "\n",
        "Для того, чтобы выгрузить данные в общий доступ (а конкретно на GEO), необходимо заполнить таблицу, которую можно найти <a href=\"https://www.ncbi.nlm.nih.gov/geo/info/seq.html\">тут</a>. После этого данные выгружаются на GEO и ставятся в очередь на проверку модераторами, которые одобряют или не одобряют ваш датасет."
      ],
      "metadata": {
        "id": "fDllgsYBK8tf"
      }
    },
    {
      "cell_type": "markdown",
      "source": [
        "#### Задание\n",
        "\n",
        "Заполните таблицу (информацию, которую вы не знаете, можете просто придумать, но так, чтобы это было реалистично), которая бы описывала эксперимент и данные из эксперимента, с которым мы работаем в течение семинара."
      ],
      "metadata": {
        "id": "5O4KQUcNNSPK"
      }
    },
    {
      "cell_type": "markdown",
      "source": [
        "Данные об эксперименте брал отсюда:<br>\n",
        "'https://www.ncbi.nlm.nih.gov/sra/?term=SRR3900953'\n",
        "\n",
        "\n",
        "**Study**: Population genetics of Oophaga sylvatica<br>\n",
        "**Summary**: Here we investigate the phylogenetic and genomic differentiations among populations of Oophaga sylvatica, which exhibit one of the highest phenotypic diversification among poison frogs. We characterize 13 populations (12 monotypic and 1 polytypic) across the O. sylvatica distribution. These populations are mostly separated in two lineages distributed in the Northern and the Southern part of their range in Ecuador. We found relatively low genetic differentiation within each lineage, despite considerable phenotypic variation, and evidence for ongoing gene flow and genetic admixture among some populations of the Northern lineage. Overall these data suggests that phenotypical diversification and aposematic coloration novelty can arise in secondary contact zones even in systems where phenotypes are subject to strong stabilizing selection.<br>\n",
        "**Contributors**: Harvard University<br>\n",
        "**Experimental design**: ddRAD sequencing<br>\n",
        "\n",
        "\n",
        "Детали опыта:\n",
        "\n",
        "**Extract protocol**: DNA extraction kit (Zymogen) - это я уже тут сам придумываю.<br>\n",
        "**Strategy**: OTHER<br>\n",
        "**Source**: GENOMIC<br>\n",
        "**Selection**: Restriction Digest<br>\n",
        "**Layout**: PAIRED<br>"
      ],
      "metadata": {
        "id": "F4HU7Lngy6M9"
      }
    },
    {
      "cell_type": "markdown",
      "source": [
        "## Домашнее задание\n",
        "\n",
        "Загрузите прочтения всех экспериментов из статьи <a href=\"https://www.nature.com/articles/s41598-018-23226-4\"><b>Evaluation of two main RNA-seq approaches for gene quantification in clinical RNA sequencing: polyA+ selection versus rRNA depletion</b></a>, в которой сравнивают два протокола подготовки библиотек для bulk RNA-Seq: при помощи деплеции рРНК (=<code>total</code>) или при помощи селекции polyA-транскриптов (=<code>polyA+</code>).\n",
        "\n",
        "При выполнении задания используйте Nextflow pipeline."
      ],
      "metadata": {
        "id": "-w22NmLJ54GS"
      }
    },
    {
      "cell_type": "markdown",
      "source": [
        "Так как все прочтения - это слишком большой объём данных, загрузим два эксперимента.\n",
        "Скрипт для загрузки файлов:\n",
        "```\n",
        "params.results_dir = \"results/\"\n",
        "SRA_list = params.SRA.split(\",\")\n",
        "\n",
        "log.info \"\"\n",
        "log.info \"  D O W N L O A D I N G  \"\n",
        "log.info \"=================================\"\n",
        "log.info \"SRA number         : ${SRA_list}\"\n",
        "log.info \"Results location   : ${params.results_dir}\"\n",
        "\n",
        "process DownloadFastQ {\n",
        "  publishDir \"${params.results_dir}\"\n",
        "\n",
        "  input:\n",
        "    val sra\n",
        "\n",
        "  output:\n",
        "    path \"${sra}/*\"\n",
        "\n",
        "  script:\n",
        "    \"\"\"\n",
        "    /content/sratoolkit.3.0.0-ubuntu64/bin/fasterq-dump ${sra} -O ${sra}/\n",
        "    \"\"\"\n",
        "}\n",
        "\n",
        "workflow {\n",
        "  data = Channel.of( SRA_list )\n",
        "  DownloadFastQ(data)\n",
        "}\n",
        "\n",
        "\n",
        "```"
      ],
      "metadata": {
        "id": "kamo_66wx256"
      }
    },
    {
      "cell_type": "code",
      "source": [
        "!./nextflow run HW_pipeline.nf --SRA SRR6410603,\tSRR6410604\t"
      ],
      "metadata": {
        "id": "NYUxXcRX53bo",
        "colab": {
          "base_uri": "https://localhost:8080/"
        },
        "outputId": "d187496a-3046-487f-b7da-b55d74edae90"
      },
      "execution_count": null,
      "outputs": [
        {
          "output_type": "stream",
          "name": "stdout",
          "text": [
            "N E X T F L O W  ~  version 22.10.2\n",
            "Launching `HW_pipeline.nf` [jovial_liskov] DSL2 - revision: d5614a9f4c\n",
            "\n",
            "  D O W N L O A D I N G  \n",
            "=================================\n",
            "SRA number         : [SRR6410603]\n",
            "Results location   : results/\n",
            "[-        ] process > DownloadFastQ -\u001b[K\n",
            "\u001b[2A\n",
            "[-        ] process > DownloadFastQ [  0%] 0 of 1\u001b[K\n",
            "\u001b[2A\n",
            "executor >  local (1)\u001b[K\n",
            "[31/a9525b] process > DownloadFastQ (1) [  0%] 0 of 1\u001b[K\n",
            "\u001b[3A\n",
            "executor >  local (1)\u001b[K\n",
            "[31/a9525b] process > DownloadFastQ (1) [100%] 1 of 1 ✔\u001b[K\n",
            "\u001b[3A\n",
            "executor >  local (1)\u001b[K\n",
            "[31/a9525b] process > DownloadFastQ (1) [100%] 1 of 1 ✔\u001b[K\n",
            "\u001b[32;1mCompleted at: 16-Nov-2022 14:53:15\n",
            "Duration    : 13m 30s\n",
            "CPU hours   : 0.2\n",
            "Succeeded   : 1\n",
            "\u001b[22;39m\u001b[K\n",
            "\n"
          ]
        }
      ]
    }
  ],
  "metadata": {
    "colab": {
      "provenance": [],
      "collapsed_sections": [
        "fDllgsYBK8tf"
      ],
      "include_colab_link": true
    },
    "kernelspec": {
      "display_name": "Python 3",
      "name": "python3"
    },
    "language_info": {
      "name": "python"
    }
  },
  "nbformat": 4,
  "nbformat_minor": 0
}